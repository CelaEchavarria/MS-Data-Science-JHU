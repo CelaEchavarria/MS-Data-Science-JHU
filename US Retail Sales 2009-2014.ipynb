{
 "cells": [
  {
   "cell_type": "code",
   "execution_count": 1,
   "metadata": {},
   "outputs": [],
   "source": [
    "import warnings\n",
    "warnings.filterwarnings('ignore')"
   ]
  },
  {
   "cell_type": "markdown",
   "metadata": {},
   "source": [
    "### US Retail Sales 2009-2014  \n",
    "(Data Visualization Spring 2018)"
   ]
  },
  {
   "cell_type": "markdown",
   "metadata": {},
   "source": [
    "The retail industry seems to be struggling and Amazon is seen as being the winner. Many people wonder what is it that Amazon is doing differently. For this project I wanted to look a bit more into the numbers for the retail industry and see if there was any clear trend on why retailers seem to be struggling and if there is any major difference by the type of business.\n",
    "\n",
    "I first looked for datasets in the retail industry that would give me an idea on the sales and operations in the retail industry and Amazon. I also looked for some literature that would help me interpret the results. Unfortunately, I didn't find any datasets in operations, but I was able to find two datasets that were very helpful on looking at sales for the overall retail industry. The Amazon information, I gathered from the Amazon annual reports since I didn't find an already compiled and organized dataset from other sources."
   ]
  },
  {
   "cell_type": "code",
   "execution_count": 2,
   "metadata": {
    "extensions": {
     "jupyter_dashboards": {
      "version": 1,
      "views": {
       "grid_default": {
        "hidden": true
       },
       "report_default": {}
      }
     }
    }
   },
   "outputs": [
    {
     "data": {
      "text/html": [
       "<script type=\"text/javascript\">window.PlotlyConfig = {MathJaxConfig: 'local'};</script><script type=\"text/javascript\">if (window.MathJax) {MathJax.Hub.Config({SVG: {font: \"STIX-Web\"}});}</script><script>requirejs.config({paths: { 'plotly': ['https://cdn.plot.ly/plotly-latest.min']},});if(!window._Plotly) {require(['plotly'],function(plotly) {window._Plotly=plotly;});}</script>"
      ],
      "text/vnd.plotly.v1+html": [
       "<script type=\"text/javascript\">window.PlotlyConfig = {MathJaxConfig: 'local'};</script><script type=\"text/javascript\">if (window.MathJax) {MathJax.Hub.Config({SVG: {font: \"STIX-Web\"}});}</script><script>requirejs.config({paths: { 'plotly': ['https://cdn.plot.ly/plotly-latest.min']},});if(!window._Plotly) {require(['plotly'],function(plotly) {window._Plotly=plotly;});}</script>"
      ]
     },
     "metadata": {},
     "output_type": "display_data"
    }
   ],
   "source": [
    "import pandas as pd\n",
    "import plotly\n",
    "from plotly.offline import iplot\n",
    "import plotly.graph_objs as go\n",
    "plotly.offline.init_notebook_mode(connected=True)\n",
    "\n",
    "#Load file\n",
    "sales_store_type = pd.read_excel(\"US Retail Sales by Store Type 2009-2014_filtered.xls\", index_col=None)\n",
    "sales_store_type = sales_store_type.transpose()      #Switch Columns and Rows"
   ]
  },
  {
   "cell_type": "markdown",
   "metadata": {
    "extensions": {
     "jupyter_dashboards": {
      "version": 1,
      "views": {
       "grid_default": {
        "col": 0,
        "height": 4,
        "hidden": false,
        "row": 0,
        "width": 4
       },
       "report_default": {}
      }
     }
    }
   },
   "source": [
    "Started with data-cleanup before moving forward with the visualizations."
   ]
  },
  {
   "cell_type": "code",
   "execution_count": 3,
   "metadata": {
    "extensions": {
     "jupyter_dashboards": {
      "version": 1,
      "views": {
       "grid_default": {
        "col": 0,
        "height": 15,
        "hidden": false,
        "row": 4,
        "width": 12
       },
       "report_default": {}
      }
     }
    }
   },
   "outputs": [
    {
     "data": {
      "text/html": [
       "<div>\n",
       "<style scoped>\n",
       "    .dataframe tbody tr th:only-of-type {\n",
       "        vertical-align: middle;\n",
       "    }\n",
       "\n",
       "    .dataframe tbody tr th {\n",
       "        vertical-align: top;\n",
       "    }\n",
       "\n",
       "    .dataframe thead th {\n",
       "        text-align: right;\n",
       "    }\n",
       "</style>\n",
       "<table border=\"1\" class=\"dataframe\">\n",
       "  <thead>\n",
       "    <tr style=\"text-align: right;\">\n",
       "      <th></th>\n",
       "      <th>Year</th>\n",
       "      <th>Retail and food services sales, total</th>\n",
       "      <th>Total (excl. motor vehicle and parts dealers)</th>\n",
       "      <th>Retail sales, total</th>\n",
       "      <th>Retail sales, total (excl. motor vehicle and p</th>\n",
       "      <th>GAFO¹</th>\n",
       "      <th>Motor vehicle and parts dealers</th>\n",
       "      <th>Furniture and home furnishings stores</th>\n",
       "      <th>Electronics and appliance stores</th>\n",
       "      <th>Building mat. and garden equip. and supplies</th>\n",
       "      <th>...</th>\n",
       "      <th>Miscellaneous store retailers</th>\n",
       "      <th>Nonstore retailers</th>\n",
       "      <th>E-Shopping and mail-order houses</th>\n",
       "      <th>Food services and drinking places</th>\n",
       "      <th>24</th>\n",
       "      <th>25</th>\n",
       "      <th>26</th>\n",
       "      <th>27</th>\n",
       "      <th>28</th>\n",
       "      <th>29</th>\n",
       "    </tr>\n",
       "  </thead>\n",
       "  <tbody>\n",
       "    <tr>\n",
       "      <th>2014</th>\n",
       "      <td>2014</td>\n",
       "      <td>5.21154e+06</td>\n",
       "      <td>4.19036e+06</td>\n",
       "      <td>4.63634e+06</td>\n",
       "      <td>3.61516e+06</td>\n",
       "      <td>1.23972e+06</td>\n",
       "      <td>1.02118e+06</td>\n",
       "      <td>99687</td>\n",
       "      <td>104012</td>\n",
       "      <td>317715</td>\n",
       "      <td>...</td>\n",
       "      <td>116065</td>\n",
       "      <td>470196</td>\n",
       "      <td>386135</td>\n",
       "      <td>575197</td>\n",
       "      <td>NaN</td>\n",
       "      <td>NaN</td>\n",
       "      <td>NaN</td>\n",
       "      <td>NaN</td>\n",
       "      <td>NaN</td>\n",
       "      <td>NaN</td>\n",
       "    </tr>\n",
       "    <tr>\n",
       "      <th>2013r</th>\n",
       "      <td>2013</td>\n",
       "      <td>5.00124e+06</td>\n",
       "      <td>4.04205e+06</td>\n",
       "      <td>4.459e+06</td>\n",
       "      <td>3.49982e+06</td>\n",
       "      <td>1.21433e+06</td>\n",
       "      <td>959188</td>\n",
       "      <td>95331</td>\n",
       "      <td>103264</td>\n",
       "      <td>301792</td>\n",
       "      <td>...</td>\n",
       "      <td>112454</td>\n",
       "      <td>433440</td>\n",
       "      <td>350836</td>\n",
       "      <td>542239</td>\n",
       "      <td>NaN</td>\n",
       "      <td>NaN</td>\n",
       "      <td>NaN</td>\n",
       "      <td>NaN</td>\n",
       "      <td>NaN</td>\n",
       "      <td>NaN</td>\n",
       "    </tr>\n",
       "    <tr>\n",
       "      <th>2012r</th>\n",
       "      <td>2012</td>\n",
       "      <td>4.82639e+06</td>\n",
       "      <td>3.9399e+06</td>\n",
       "      <td>4.30223e+06</td>\n",
       "      <td>3.41574e+06</td>\n",
       "      <td>1.19184e+06</td>\n",
       "      <td>886494</td>\n",
       "      <td>91542</td>\n",
       "      <td>102060</td>\n",
       "      <td>281533</td>\n",
       "      <td>...</td>\n",
       "      <td>110018</td>\n",
       "      <td>408171</td>\n",
       "      <td>328655</td>\n",
       "      <td>524161</td>\n",
       "      <td>NaN</td>\n",
       "      <td>NaN</td>\n",
       "      <td>NaN</td>\n",
       "      <td>NaN</td>\n",
       "      <td>NaN</td>\n",
       "      <td>NaN</td>\n",
       "    </tr>\n",
       "    <tr>\n",
       "      <th>2011r</th>\n",
       "      <td>2011</td>\n",
       "      <td>4.59757e+06</td>\n",
       "      <td>3.78487e+06</td>\n",
       "      <td>4.10219e+06</td>\n",
       "      <td>3.28949e+06</td>\n",
       "      <td>1.15544e+06</td>\n",
       "      <td>812695</td>\n",
       "      <td>87697</td>\n",
       "      <td>99790</td>\n",
       "      <td>269481</td>\n",
       "      <td>...</td>\n",
       "      <td>108367</td>\n",
       "      <td>377443</td>\n",
       "      <td>295755</td>\n",
       "      <td>495382</td>\n",
       "      <td>NaN</td>\n",
       "      <td>NaN</td>\n",
       "      <td>NaN</td>\n",
       "      <td>NaN</td>\n",
       "      <td>NaN</td>\n",
       "      <td>NaN</td>\n",
       "    </tr>\n",
       "    <tr>\n",
       "      <th>2010r</th>\n",
       "      <td>2010</td>\n",
       "      <td>4.28578e+06</td>\n",
       "      <td>3.54324e+06</td>\n",
       "      <td>3.81884e+06</td>\n",
       "      <td>3.07629e+06</td>\n",
       "      <td>1.1143e+06</td>\n",
       "      <td>742547</td>\n",
       "      <td>85451</td>\n",
       "      <td>97280</td>\n",
       "      <td>260544</td>\n",
       "      <td>...</td>\n",
       "      <td>104250</td>\n",
       "      <td>341699</td>\n",
       "      <td>264240</td>\n",
       "      <td>466941</td>\n",
       "      <td>NaN</td>\n",
       "      <td>NaN</td>\n",
       "      <td>NaN</td>\n",
       "      <td>NaN</td>\n",
       "      <td>NaN</td>\n",
       "      <td>NaN</td>\n",
       "    </tr>\n",
       "    <tr>\n",
       "      <th>2009r</th>\n",
       "      <td>2009</td>\n",
       "      <td>4.06496e+06</td>\n",
       "      <td>3.39344e+06</td>\n",
       "      <td>3.61295e+06</td>\n",
       "      <td>2.94142e+06</td>\n",
       "      <td>1.08815e+06</td>\n",
       "      <td>671523</td>\n",
       "      <td>84924</td>\n",
       "      <td>95282</td>\n",
       "      <td>261622</td>\n",
       "      <td>...</td>\n",
       "      <td>101754</td>\n",
       "      <td>311592</td>\n",
       "      <td>236070</td>\n",
       "      <td>452018</td>\n",
       "      <td>NaN</td>\n",
       "      <td>NaN</td>\n",
       "      <td>NaN</td>\n",
       "      <td>NaN</td>\n",
       "      <td>NaN</td>\n",
       "      <td>NaN</td>\n",
       "    </tr>\n",
       "    <tr>\n",
       "      <th>2008r</th>\n",
       "      <td>2008</td>\n",
       "      <td>4.39178e+06</td>\n",
       "      <td>3.60605e+06</td>\n",
       "      <td>3.93550e+06</td>\n",
       "      <td>3.14978e+06</td>\n",
       "      <td>1.13636e+06</td>\n",
       "      <td>785725</td>\n",
       "      <td>98816</td>\n",
       "      <td>105276</td>\n",
       "      <td>301826</td>\n",
       "      <td>...</td>\n",
       "      <td>110692</td>\n",
       "      <td>319353</td>\n",
       "      <td>229445</td>\n",
       "      <td>456273</td>\n",
       "      <td>NaN</td>\n",
       "      <td>NaN</td>\n",
       "      <td>NaN</td>\n",
       "      <td>NaN</td>\n",
       "      <td>NaN</td>\n",
       "      <td>NaN</td>\n",
       "    </tr>\n",
       "    <tr>\n",
       "      <th>2007</th>\n",
       "      <td>2007</td>\n",
       "      <td>4.43973e+06</td>\n",
       "      <td>3.52959e+06</td>\n",
       "      <td>3.99518e+06</td>\n",
       "      <td>3.08504e+06</td>\n",
       "      <td>1.14343e+06</td>\n",
       "      <td>910139</td>\n",
       "      <td>111144</td>\n",
       "      <td>106599</td>\n",
       "      <td>320854</td>\n",
       "      <td>...</td>\n",
       "      <td>116418</td>\n",
       "      <td>308767</td>\n",
       "      <td>223681</td>\n",
       "      <td>444551</td>\n",
       "      <td>NaN</td>\n",
       "      <td>NaN</td>\n",
       "      <td>NaN</td>\n",
       "      <td>NaN</td>\n",
       "      <td>NaN</td>\n",
       "      <td>NaN</td>\n",
       "    </tr>\n",
       "    <tr>\n",
       "      <th>2006</th>\n",
       "      <td>2006</td>\n",
       "      <td>4.29436e+06</td>\n",
       "      <td>3.39436e+06</td>\n",
       "      <td>3.87157e+06</td>\n",
       "      <td>2.97158e+06</td>\n",
       "      <td>1.11016e+06</td>\n",
       "      <td>899997</td>\n",
       "      <td>112795</td>\n",
       "      <td>105477</td>\n",
       "      <td>334130</td>\n",
       "      <td>...</td>\n",
       "      <td>113694</td>\n",
       "      <td>284343</td>\n",
       "      <td>202251</td>\n",
       "      <td>422786</td>\n",
       "      <td>NaN</td>\n",
       "      <td>NaN</td>\n",
       "      <td>NaN</td>\n",
       "      <td>NaN</td>\n",
       "      <td>NaN</td>\n",
       "      <td>NaN</td>\n",
       "    </tr>\n",
       "    <tr>\n",
       "      <th>2005</th>\n",
       "      <td>2005</td>\n",
       "      <td>4.08575e+06</td>\n",
       "      <td>3.19744e+06</td>\n",
       "      <td>3.68928e+06</td>\n",
       "      <td>2.80098e+06</td>\n",
       "      <td>1.0596e+06</td>\n",
       "      <td>888307</td>\n",
       "      <td>109120</td>\n",
       "      <td>100461</td>\n",
       "      <td>320802</td>\n",
       "      <td>...</td>\n",
       "      <td>107279</td>\n",
       "      <td>255579</td>\n",
       "      <td>175900</td>\n",
       "      <td>396463</td>\n",
       "      <td>NaN</td>\n",
       "      <td>NaN</td>\n",
       "      <td>NaN</td>\n",
       "      <td>NaN</td>\n",
       "      <td>NaN</td>\n",
       "      <td>NaN</td>\n",
       "    </tr>\n",
       "  </tbody>\n",
       "</table>\n",
       "<p>10 rows × 31 columns</p>\n",
       "</div>"
      ],
      "text/plain": [
       "       Year Retail and food services sales, total  \\\n",
       "2014   2014                           5.21154e+06   \n",
       "2013r  2013                           5.00124e+06   \n",
       "2012r  2012                           4.82639e+06   \n",
       "2011r  2011                           4.59757e+06   \n",
       "2010r  2010                           4.28578e+06   \n",
       "2009r  2009                           4.06496e+06   \n",
       "2008r  2008                           4.39178e+06   \n",
       "2007   2007                           4.43973e+06   \n",
       "2006   2006                           4.29436e+06   \n",
       "2005   2005                           4.08575e+06   \n",
       "\n",
       "      Total (excl. motor vehicle and parts dealers) Retail sales, total  \\\n",
       "2014                                    4.19036e+06         4.63634e+06   \n",
       "2013r                                   4.04205e+06           4.459e+06   \n",
       "2012r                                    3.9399e+06         4.30223e+06   \n",
       "2011r                                   3.78487e+06         4.10219e+06   \n",
       "2010r                                   3.54324e+06         3.81884e+06   \n",
       "2009r                                   3.39344e+06         3.61295e+06   \n",
       "2008r                                   3.60605e+06         3.93550e+06   \n",
       "2007                                    3.52959e+06         3.99518e+06   \n",
       "2006                                    3.39436e+06         3.87157e+06   \n",
       "2005                                    3.19744e+06         3.68928e+06   \n",
       "\n",
       "      Retail sales, total (excl. motor vehicle and p        GAFO¹  \\\n",
       "2014                                     3.61516e+06  1.23972e+06   \n",
       "2013r                                    3.49982e+06  1.21433e+06   \n",
       "2012r                                    3.41574e+06  1.19184e+06   \n",
       "2011r                                    3.28949e+06  1.15544e+06   \n",
       "2010r                                    3.07629e+06   1.1143e+06   \n",
       "2009r                                    2.94142e+06  1.08815e+06   \n",
       "2008r                                    3.14978e+06  1.13636e+06   \n",
       "2007                                     3.08504e+06  1.14343e+06   \n",
       "2006                                     2.97158e+06  1.11016e+06   \n",
       "2005                                     2.80098e+06   1.0596e+06   \n",
       "\n",
       "      Motor vehicle and parts dealers Furniture and home furnishings stores  \\\n",
       "2014                      1.02118e+06                                 99687   \n",
       "2013r                          959188                                 95331   \n",
       "2012r                          886494                                 91542   \n",
       "2011r                          812695                                 87697   \n",
       "2010r                          742547                                 85451   \n",
       "2009r                          671523                                 84924   \n",
       "2008r                          785725                                 98816   \n",
       "2007                           910139                                111144   \n",
       "2006                           899997                                112795   \n",
       "2005                           888307                                109120   \n",
       "\n",
       "      Electronics and appliance stores  \\\n",
       "2014                            104012   \n",
       "2013r                           103264   \n",
       "2012r                           102060   \n",
       "2011r                            99790   \n",
       "2010r                            97280   \n",
       "2009r                            95282   \n",
       "2008r                           105276   \n",
       "2007                            106599   \n",
       "2006                            105477   \n",
       "2005                            100461   \n",
       "\n",
       "      Building mat. and garden equip. and supplies ...   \\\n",
       "2014                                        317715 ...    \n",
       "2013r                                       301792 ...    \n",
       "2012r                                       281533 ...    \n",
       "2011r                                       269481 ...    \n",
       "2010r                                       260544 ...    \n",
       "2009r                                       261622 ...    \n",
       "2008r                                       301826 ...    \n",
       "2007                                        320854 ...    \n",
       "2006                                        334130 ...    \n",
       "2005                                        320802 ...    \n",
       "\n",
       "      Miscellaneous store retailers Nonstore retailers  \\\n",
       "2014                         116065             470196   \n",
       "2013r                        112454             433440   \n",
       "2012r                        110018             408171   \n",
       "2011r                        108367             377443   \n",
       "2010r                        104250             341699   \n",
       "2009r                        101754             311592   \n",
       "2008r                        110692             319353   \n",
       "2007                         116418             308767   \n",
       "2006                         113694             284343   \n",
       "2005                         107279             255579   \n",
       "\n",
       "      E-Shopping and mail-order houses Food services and drinking places   24  \\\n",
       "2014                            386135                            575197  NaN   \n",
       "2013r                           350836                            542239  NaN   \n",
       "2012r                           328655                            524161  NaN   \n",
       "2011r                           295755                            495382  NaN   \n",
       "2010r                           264240                            466941  NaN   \n",
       "2009r                           236070                            452018  NaN   \n",
       "2008r                           229445                            456273  NaN   \n",
       "2007                            223681                            444551  NaN   \n",
       "2006                            202251                            422786  NaN   \n",
       "2005                            175900                            396463  NaN   \n",
       "\n",
       "        25   26   27   28   29  \n",
       "2014   NaN  NaN  NaN  NaN  NaN  \n",
       "2013r  NaN  NaN  NaN  NaN  NaN  \n",
       "2012r  NaN  NaN  NaN  NaN  NaN  \n",
       "2011r  NaN  NaN  NaN  NaN  NaN  \n",
       "2010r  NaN  NaN  NaN  NaN  NaN  \n",
       "2009r  NaN  NaN  NaN  NaN  NaN  \n",
       "2008r  NaN  NaN  NaN  NaN  NaN  \n",
       "2007   NaN  NaN  NaN  NaN  NaN  \n",
       "2006   NaN  NaN  NaN  NaN  NaN  \n",
       "2005   NaN  NaN  NaN  NaN  NaN  \n",
       "\n",
       "[10 rows x 31 columns]"
      ]
     },
     "execution_count": 3,
     "metadata": {},
     "output_type": "execute_result"
    }
   ],
   "source": [
    "#Rename Columns\n",
    "sales_store_type.rename(columns={0:\"Retail and food services sales, total\", 1:\"Total (excl. motor vehicle and parts dealers)\",2:\"Retail sales, total\",3:\"Retail sales, total (excl. motor vehicle and p\",\n",
    "                                 4:\"GAFO¹\",5:\"Motor vehicle and parts dealers\",6:\"Furniture and home furnishings stores\",7:\"Electronics and appliance stores\",8:\"Building mat. and garden equip. and supplies\",\n",
    "                                9:\"Food and beverage stores\",10:\"Health and personal care stores\",11:\"Gasoline Station\",12:\"Clothing and clothing accessories stores\",13:\"Sporting goods, hobby, book, and music stores\",\n",
    "                                 14:\"General merchandise stores\",20:\"Miscellaneous store retailers\",21:\"Nonstore retailers\",22:\"E-Shopping and mail-order houses\",\n",
    "                                 23:\"Food services and drinking places\"}, inplace=True)\n",
    "#Drop unneeded rows\n",
    "sales_store_type=sales_store_type.drop([\"NAICS Code\",\"Kind of business\",\"Unnamed: 25\",1999,1998,1997,1996,1995,1994,1993,1992])\n",
    "sales_store_type=sales_store_type[:15]\n",
    "\n",
    "#Replace 'Year' Column for easier manipulation\n",
    "sales_store_type.insert(0,\"Year\",[2014,2013,2012,2011,2010,2009,2008,2007,2006,2005,2004,2003,2002,2001,2000])\n",
    "\n",
    "sales_store_type[:10]"
   ]
  },
  {
   "cell_type": "markdown",
   "metadata": {
    "extensions": {
     "jupyter_dashboards": {
      "version": 1,
      "views": {
       "grid_default": {
        "col": 4,
        "height": 4,
        "hidden": false,
        "row": 0,
        "width": 4
       },
       "report_default": {}
      }
     }
    }
   },
   "source": [
    "#### Explore with some visualizations"
   ]
  },
  {
   "cell_type": "markdown",
   "metadata": {
    "extensions": {
     "jupyter_dashboards": {
      "version": 1,
      "views": {
       "grid_default": {
        "col": 8,
        "height": 4,
        "hidden": false,
        "row": 0,
        "width": 4
       },
       "report_default": {}
      }
     }
    }
   },
   "source": [
    "The very first thing I wanted to see visually was the total sales for the Retail and Food Services. This value doesn't include motor vehicle and parts dealers."
   ]
  },
  {
   "cell_type": "code",
   "execution_count": 4,
   "metadata": {
    "extensions": {
     "jupyter_dashboards": {
      "version": 1,
      "views": {
       "grid_default": {
        "col": 0,
        "height": 19,
        "hidden": false,
        "row": 19,
        "width": 4
       },
       "report_default": {}
      }
     }
    }
   },
   "outputs": [
    {
     "data": {
      "application/vnd.plotly.v1+json": {
       "config": {
        "linkText": "Export to plot.ly",
        "plotlyServerURL": "https://plot.ly",
        "showLink": true
       },
       "data": [
        {
         "name": "Retail and Food Services",
         "type": "scatter",
         "uid": "7b5e9999-342c-4828-b6d1-b9886bc84454",
         "x": [
          2014,
          2013,
          2012,
          2011,
          2010,
          2009,
          2008,
          2007,
          2006,
          2005,
          2004,
          2003,
          2002,
          2001,
          2000
         ],
         "y": [
          5211542,
          5001242,
          4826390,
          4597569,
          4285782,
          4064965,
          4391778,
          4439733,
          4294359,
          4085746,
          3846605,
          3612457,
          3459077,
          3378906,
          3287537
         ]
        }
       ],
       "layout": {
        "autosize": false,
        "height": 500,
        "margin": {
         "b": 100,
         "l": 50,
         "pad": 4,
         "r": 50,
         "t": 100
        },
        "showlegend": true,
        "title": "Total Sales of Retail and Food Services",
        "width": 1000,
        "xaxis": {
         "title": "Year"
        },
        "yaxis": {
         "title": "Sales"
        }
       }
      },
      "text/html": [
       "<div id=\"fcf6ed3f-3c5c-45e1-b290-3425468f9241\" style=\"height: 500px; width: 1000px;\" class=\"plotly-graph-div\"></div><script type=\"text/javascript\">require([\"plotly\"], function(Plotly) { window.PLOTLYENV=window.PLOTLYENV || {};window.PLOTLYENV.BASE_URL=\"https://plot.ly\";Plotly.newPlot(\"fcf6ed3f-3c5c-45e1-b290-3425468f9241\", [{\"y\": [5211542.0, 5001242.0, 4826390.0, 4597569.0, 4285782.0, 4064965.0, 4391778.0, 4439733.0, 4294359.0, 4085746.0, 3846605.0, 3612457.0, 3459077.0, 3378906.0, 3287537.0], \"x\": [2014, 2013, 2012, 2011, 2010, 2009, 2008, 2007, 2006, 2005, 2004, 2003, 2002, 2001, 2000], \"type\": \"scatter\", \"name\": \"Retail and Food Services\", \"uid\": \"7b5e9999-342c-4828-b6d1-b9886bc84454\"}], {\"autosize\": false, \"yaxis\": {\"title\": \"Sales\"}, \"title\": \"Total Sales of Retail and Food Services\", \"showlegend\": true, \"height\": 500, \"width\": 1000, \"xaxis\": {\"title\": \"Year\"}, \"margin\": {\"pad\": 4, \"r\": 50, \"b\": 100, \"l\": 50, \"t\": 100}}, {\"plotlyServerURL\": \"https://plot.ly\", \"linkText\": \"Export to plot.ly\", \"showLink\": true})});</script>"
      ],
      "text/vnd.plotly.v1+html": [
       "<div id=\"fcf6ed3f-3c5c-45e1-b290-3425468f9241\" style=\"height: 500px; width: 1000px;\" class=\"plotly-graph-div\"></div><script type=\"text/javascript\">require([\"plotly\"], function(Plotly) { window.PLOTLYENV=window.PLOTLYENV || {};window.PLOTLYENV.BASE_URL=\"https://plot.ly\";Plotly.newPlot(\"fcf6ed3f-3c5c-45e1-b290-3425468f9241\", [{\"y\": [5211542.0, 5001242.0, 4826390.0, 4597569.0, 4285782.0, 4064965.0, 4391778.0, 4439733.0, 4294359.0, 4085746.0, 3846605.0, 3612457.0, 3459077.0, 3378906.0, 3287537.0], \"x\": [2014, 2013, 2012, 2011, 2010, 2009, 2008, 2007, 2006, 2005, 2004, 2003, 2002, 2001, 2000], \"type\": \"scatter\", \"name\": \"Retail and Food Services\", \"uid\": \"7b5e9999-342c-4828-b6d1-b9886bc84454\"}], {\"autosize\": false, \"yaxis\": {\"title\": \"Sales\"}, \"title\": \"Total Sales of Retail and Food Services\", \"showlegend\": true, \"height\": 500, \"width\": 1000, \"xaxis\": {\"title\": \"Year\"}, \"margin\": {\"pad\": 4, \"r\": 50, \"b\": 100, \"l\": 50, \"t\": 100}}, {\"plotlyServerURL\": \"https://plot.ly\", \"linkText\": \"Export to plot.ly\", \"showLink\": true})});</script>"
      ]
     },
     "metadata": {},
     "output_type": "display_data"
    }
   ],
   "source": [
    "data = [go.Scatter(\n",
    "    x=sales_store_type[\"Year\"],\n",
    "    y=sales_store_type[\"Retail and food services sales, total\"],\n",
    "    name=\"Retail and Food Services\")\n",
    "       ]\n",
    "layout = go.Layout(\n",
    "    showlegend=True,\n",
    "    title=\"Total Sales of Retail and Food Services\", \n",
    "    xaxis=dict(title=\"Year\"),\n",
    "    yaxis=dict(title=\"Sales\"),\n",
    "    autosize=False,\n",
    "    width=1000,\n",
    "    height=500,\n",
    "    margin=go.layout.Margin(\n",
    "    l=50,\n",
    "    r=50,\n",
    "    b=100,\n",
    "    t=100,\n",
    "    pad=4)\n",
    "    )\n",
    "fig=go.Figure(data=data, layout=layout)\n",
    "plotly.offline.iplot(fig,filename='Total Sales of Retail and Food Services')"
   ]
  },
  {
   "cell_type": "markdown",
   "metadata": {
    "extensions": {
     "jupyter_dashboards": {
      "version": 1,
      "views": {
       "grid_default": {
        "col": 4,
        "height": 4,
        "hidden": false,
        "row": 19,
        "width": 4
       },
       "report_default": {}
      }
     }
    }
   },
   "source": [
    "We see a dip starting in 2007-2008. It might be worth exploring if there was any area that was highly affected and/or if it was due to the overall economy. After this dip, there is an upward trend."
   ]
  },
  {
   "cell_type": "code",
   "execution_count": 5,
   "metadata": {
    "extensions": {
     "jupyter_dashboards": {
      "version": 1,
      "views": {
       "grid_default": {
        "col": 8,
        "height": 19,
        "hidden": false,
        "row": 19,
        "width": 4
       },
       "report_default": {}
      }
     }
    }
   },
   "outputs": [
    {
     "data": {
      "application/vnd.plotly.v1+json": {
       "config": {
        "linkText": "Export to plot.ly",
        "plotlyServerURL": "https://plot.ly",
        "showLink": true
       },
       "data": [
        {
         "name": "Total Retail Sales",
         "type": "scatter",
         "uid": "88fa8866-7e5a-4b97-907b-6f0fb322c6fd",
         "x": [
          2014,
          2013,
          2012,
          2011,
          2010,
          2009,
          2008,
          2007,
          2006,
          2005,
          2004,
          2003,
          2002,
          2001,
          2000
         ],
         "y": [
          4636345,
          4459003,
          4302229,
          4102187,
          3818841,
          3612947,
          3935505,
          3995182,
          3871573,
          3689283,
          3473048,
          3262731,
          3128552,
          3062268,
          2983276
         ]
        }
       ],
       "layout": {
        "autosize": false,
        "height": 500,
        "margin": {
         "b": 100,
         "l": 50,
         "pad": 4,
         "r": 50,
         "t": 100
        },
        "showlegend": true,
        "title": "Retail Total Sales",
        "width": 1000,
        "xaxis": {
         "title": "Year"
        },
        "yaxis": {
         "title": "Sales USD $"
        }
       }
      },
      "text/html": [
       "<div id=\"259fa627-0bc7-4113-99d7-3542b154c200\" style=\"height: 500px; width: 1000px;\" class=\"plotly-graph-div\"></div><script type=\"text/javascript\">require([\"plotly\"], function(Plotly) { window.PLOTLYENV=window.PLOTLYENV || {};window.PLOTLYENV.BASE_URL=\"https://plot.ly\";Plotly.newPlot(\"259fa627-0bc7-4113-99d7-3542b154c200\", [{\"y\": [4636345.0, 4459003.0, 4302229.0, 4102187.0, 3818841.0, 3612947.0, 3935505.0, 3995182.0, 3871573.0, 3689283.0, 3473048.0, 3262731.0, 3128552.0, 3062268.0, 2983276.0], \"x\": [2014, 2013, 2012, 2011, 2010, 2009, 2008, 2007, 2006, 2005, 2004, 2003, 2002, 2001, 2000], \"type\": \"scatter\", \"name\": \"Total Retail Sales\", \"uid\": \"88fa8866-7e5a-4b97-907b-6f0fb322c6fd\"}], {\"autosize\": false, \"yaxis\": {\"title\": \"Sales USD $\"}, \"title\": \"Retail Total Sales\", \"showlegend\": true, \"height\": 500, \"width\": 1000, \"xaxis\": {\"title\": \"Year\"}, \"margin\": {\"pad\": 4, \"r\": 50, \"b\": 100, \"l\": 50, \"t\": 100}}, {\"plotlyServerURL\": \"https://plot.ly\", \"linkText\": \"Export to plot.ly\", \"showLink\": true})});</script>"
      ],
      "text/vnd.plotly.v1+html": [
       "<div id=\"259fa627-0bc7-4113-99d7-3542b154c200\" style=\"height: 500px; width: 1000px;\" class=\"plotly-graph-div\"></div><script type=\"text/javascript\">require([\"plotly\"], function(Plotly) { window.PLOTLYENV=window.PLOTLYENV || {};window.PLOTLYENV.BASE_URL=\"https://plot.ly\";Plotly.newPlot(\"259fa627-0bc7-4113-99d7-3542b154c200\", [{\"y\": [4636345.0, 4459003.0, 4302229.0, 4102187.0, 3818841.0, 3612947.0, 3935505.0, 3995182.0, 3871573.0, 3689283.0, 3473048.0, 3262731.0, 3128552.0, 3062268.0, 2983276.0], \"x\": [2014, 2013, 2012, 2011, 2010, 2009, 2008, 2007, 2006, 2005, 2004, 2003, 2002, 2001, 2000], \"type\": \"scatter\", \"name\": \"Total Retail Sales\", \"uid\": \"88fa8866-7e5a-4b97-907b-6f0fb322c6fd\"}], {\"autosize\": false, \"yaxis\": {\"title\": \"Sales USD $\"}, \"title\": \"Retail Total Sales\", \"showlegend\": true, \"height\": 500, \"width\": 1000, \"xaxis\": {\"title\": \"Year\"}, \"margin\": {\"pad\": 4, \"r\": 50, \"b\": 100, \"l\": 50, \"t\": 100}}, {\"plotlyServerURL\": \"https://plot.ly\", \"linkText\": \"Export to plot.ly\", \"showLink\": true})});</script>"
      ]
     },
     "metadata": {},
     "output_type": "display_data"
    }
   ],
   "source": [
    "trace0 = go.Scatter(\n",
    "    x=sales_store_type[\"Year\"],\n",
    "    y=sales_store_type[\"Retail sales, total\"],\n",
    "    name=\"Total Retail Sales\"\n",
    "    )\n",
    "layout2 = go.Layout(\n",
    "    showlegend=True,\n",
    "    title=\"Retail Total Sales\", \n",
    "    yaxis=dict(title=\"Sales USD $\"),\n",
    "    xaxis=dict(title=\"Year\"),\n",
    "    autosize=False,\n",
    "    width=1000,\n",
    "    height=500,\n",
    "    margin=go.layout.Margin(\n",
    "    l=50,\n",
    "    r=50,\n",
    "    b=100,\n",
    "    t=100,\n",
    "    pad=4)\n",
    "    )\n",
    "data2 = [trace0]\n",
    "fig2=go.Figure(data=data2, layout=layout2)\n",
    "plotly.offline.iplot(fig2, filename=\"Total Retail Sales\")"
   ]
  },
  {
   "cell_type": "markdown",
   "metadata": {
    "extensions": {
     "jupyter_dashboards": {
      "version": 1,
      "views": {
       "grid_default": {
        "col": 4,
        "height": 4,
        "hidden": false,
        "row": 23,
        "width": 4
       },
       "report_default": {}
      }
     }
    }
   },
   "source": [
    "The dip in 2009 is consistent with Retail Sales which is what we care more about for this topic. I will skip the visualization for Food Services."
   ]
  },
  {
   "cell_type": "markdown",
   "metadata": {
    "extensions": {
     "jupyter_dashboards": {
      "version": 1,
      "views": {
       "grid_default": {
        "col": 0,
        "height": 4,
        "hidden": false,
        "row": 38,
        "width": 12
       },
       "report_default": {}
      }
     }
    }
   },
   "source": [
    "The following graph is too busy to end up in a final visualization. I am mainly using it for exploration purposes. \n",
    "Looking at the different type of businesses where Amazon might compete and the sales for non-store retailers which is where Amazon would fall."
   ]
  },
  {
   "cell_type": "code",
   "execution_count": 6,
   "metadata": {
    "extensions": {
     "jupyter_dashboards": {
      "version": 1,
      "views": {
       "grid_default": {
        "col": 0,
        "height": 19,
        "hidden": false,
        "row": 42,
        "width": 4
       },
       "report_default": {}
      }
     }
    }
   },
   "outputs": [
    {
     "data": {
      "application/vnd.plotly.v1+json": {
       "config": {
        "linkText": "Export to plot.ly",
        "plotlyServerURL": "https://plot.ly",
        "showLink": true
       },
       "data": [
        {
         "name": "Furniture and Home Furnishings",
         "type": "scatter",
         "uid": "9924c5ea-30c4-4bb8-a619-c2a171e8aec3",
         "x": [
          2014,
          2013,
          2012,
          2011,
          2010,
          2009,
          2008,
          2007,
          2006,
          2005,
          2004,
          2003,
          2002,
          2001,
          2000
         ],
         "y": [
          99687,
          95331,
          91542,
          87697,
          85451,
          84924,
          98816,
          111144,
          112795,
          109120,
          103757,
          96736,
          94438,
          91484,
          91170
         ]
        },
        {
         "name": "Electronics and Appliance Stores",
         "type": "scatter",
         "uid": "84ccf6b4-3ce9-4eaf-abbc-a0692bf57b38",
         "x": [
          2014,
          2013,
          2012,
          2011,
          2010,
          2009,
          2008,
          2007,
          2006,
          2005,
          2004,
          2003,
          2002,
          2001,
          2000
         ],
         "y": [
          104012,
          103264,
          102060,
          99790,
          97280,
          95282,
          105276,
          106599,
          105477,
          100461,
          93896,
          86442,
          83740,
          80240,
          82206
         ]
        },
        {
         "name": "Health and Personal Care Stores",
         "type": "scatter",
         "uid": "10446c58-8787-4504-baf4-0ae585e71296",
         "x": [
          2014,
          2013,
          2012,
          2011,
          2010,
          2009,
          2008,
          2007,
          2006,
          2005,
          2004,
          2003,
          2002,
          2001,
          2000
         ],
         "y": [
          299891,
          282176,
          274000,
          271333,
          260201,
          252643,
          246501,
          237164,
          223336,
          210085,
          199290,
          192426,
          179983,
          166533,
          155234
         ]
        },
        {
         "name": "Clothing and Clothings Accesories Store",
         "type": "scatter",
         "uid": "2fda6d83-9ede-4c8e-a5c0-af8287ea26c0",
         "x": [
          2014,
          2013,
          2012,
          2011,
          2010,
          2009,
          2008,
          2007,
          2006,
          2005,
          2004,
          2003,
          2002,
          2001,
          2000
         ],
         "y": [
          250775,
          246313,
          239493,
          228438,
          213178,
          204402,
          215543,
          221205,
          213189,
          200969,
          190253,
          178694,
          172304,
          167287,
          167674
         ]
        },
        {
         "name": "Sporting Goods, Hobby, Books, Music Stores",
         "type": "scatter",
         "uid": "8a4ffa7c-9d48-4e38-9bf3-8159c512f3ff",
         "x": [
          2014,
          2013,
          2012,
          2011,
          2010,
          2009,
          2008,
          2007,
          2006,
          2005,
          2004,
          2003,
          2002,
          2001,
          2000
         ],
         "y": [
          85375,
          84550,
          82981,
          80689,
          80319,
          80146,
          83595,
          84651,
          83148,
          80889,
          79284,
          76767,
          76680,
          76836,
          75808
         ]
        },
        {
         "name": "General Merchandise Stores",
         "type": "scatter",
         "uid": "eecda12d-a92a-4289-ab5f-76e0d189aafb",
         "x": [
          2014,
          2013,
          2012,
          2011,
          2010,
          2009,
          2008,
          2007,
          2006,
          2005,
          2004,
          2003,
          2002,
          2001,
          2000
         ],
         "y": [
          666873,
          651868,
          642313,
          624779,
          603776,
          588930,
          595047,
          578582,
          554256,
          528385,
          497382,
          468771,
          446520,
          427468,
          404228
         ]
        },
        {
         "name": "Nonstore retailers",
         "type": "scatter",
         "uid": "3ba1d8b4-ff55-4c90-be93-1a882d1337fe",
         "x": [
          2014,
          2013,
          2012,
          2011,
          2010,
          2009,
          2008,
          2007,
          2006,
          2005,
          2004,
          2003,
          2002,
          2001,
          2000
         ],
         "y": [
          470196,
          433440,
          408171,
          377443,
          341699,
          311592,
          319353,
          308767,
          284343,
          255579,
          228977,
          206359,
          189279,
          180563,
          180453
         ]
        }
       ],
       "layout": {
        "autosize": false,
        "height": 500,
        "margin": {
         "b": 100,
         "l": 50,
         "pad": 4,
         "r": 50,
         "t": 100
        },
        "showlegend": true,
        "title": "Sales by Industry Type",
        "width": 1000,
        "xaxis": {
         "title": "Year"
        },
        "yaxis": {
         "title": "Sales (USD $)"
        }
       }
      },
      "text/html": [
       "<div id=\"3f2312ce-18f4-414c-9d6d-84b940905343\" style=\"height: 500px; width: 1000px;\" class=\"plotly-graph-div\"></div><script type=\"text/javascript\">require([\"plotly\"], function(Plotly) { window.PLOTLYENV=window.PLOTLYENV || {};window.PLOTLYENV.BASE_URL=\"https://plot.ly\";Plotly.newPlot(\"3f2312ce-18f4-414c-9d6d-84b940905343\", [{\"y\": [99687.0, 95331.0, 91542.0, 87697.0, 85451.0, 84924.0, 98816.0, 111144.0, 112795.0, 109120.0, 103757.0, 96736.0, 94438.0, 91484.0, 91170.0], \"x\": [2014, 2013, 2012, 2011, 2010, 2009, 2008, 2007, 2006, 2005, 2004, 2003, 2002, 2001, 2000], \"type\": \"scatter\", \"name\": \"Furniture and Home Furnishings\", \"uid\": \"9924c5ea-30c4-4bb8-a619-c2a171e8aec3\"}, {\"y\": [104012.0, 103264.0, 102060.0, 99790.0, 97280.0, 95282.0, 105276.0, 106599.0, 105477.0, 100461.0, 93896.0, 86442.0, 83740.0, 80240.0, 82206.0], \"x\": [2014, 2013, 2012, 2011, 2010, 2009, 2008, 2007, 2006, 2005, 2004, 2003, 2002, 2001, 2000], \"type\": \"scatter\", \"name\": \"Electronics and Appliance Stores\", \"uid\": \"84ccf6b4-3ce9-4eaf-abbc-a0692bf57b38\"}, {\"y\": [299891.0, 282176.0, 274000.0, 271333.0, 260201.0, 252643.0, 246501.0, 237164.0, 223336.0, 210085.0, 199290.0, 192426.0, 179983.0, 166533.0, 155234.0], \"x\": [2014, 2013, 2012, 2011, 2010, 2009, 2008, 2007, 2006, 2005, 2004, 2003, 2002, 2001, 2000], \"type\": \"scatter\", \"name\": \"Health and Personal Care Stores\", \"uid\": \"10446c58-8787-4504-baf4-0ae585e71296\"}, {\"y\": [250775.0, 246313.0, 239493.0, 228438.0, 213178.0, 204402.0, 215543.0, 221205.0, 213189.0, 200969.0, 190253.0, 178694.0, 172304.0, 167287.0, 167674.0], \"x\": [2014, 2013, 2012, 2011, 2010, 2009, 2008, 2007, 2006, 2005, 2004, 2003, 2002, 2001, 2000], \"type\": \"scatter\", \"name\": \"Clothing and Clothings Accesories Store\", \"uid\": \"2fda6d83-9ede-4c8e-a5c0-af8287ea26c0\"}, {\"y\": [85375.0, 84550.0, 82981.0, 80689.0, 80319.0, 80146.0, 83595.0, 84651.0, 83148.0, 80889.0, 79284.0, 76767.0, 76680.0, 76836.0, 75808.0], \"x\": [2014, 2013, 2012, 2011, 2010, 2009, 2008, 2007, 2006, 2005, 2004, 2003, 2002, 2001, 2000], \"type\": \"scatter\", \"name\": \"Sporting Goods, Hobby, Books, Music Stores\", \"uid\": \"8a4ffa7c-9d48-4e38-9bf3-8159c512f3ff\"}, {\"y\": [666873.0, 651868.0, 642313.0, 624779.0, 603776.0, 588930.0, 595047.0, 578582.0, 554256.0, 528385.0, 497382.0, 468771.0, 446520.0, 427468.0, 404228.0], \"x\": [2014, 2013, 2012, 2011, 2010, 2009, 2008, 2007, 2006, 2005, 2004, 2003, 2002, 2001, 2000], \"type\": \"scatter\", \"name\": \"General Merchandise Stores\", \"uid\": \"eecda12d-a92a-4289-ab5f-76e0d189aafb\"}, {\"y\": [470196.0, 433440.0, 408171.0, 377443.0, 341699.0, 311592.0, 319353.0, 308767.0, 284343.0, 255579.0, 228977.0, 206359.0, 189279.0, 180563.0, 180453.0], \"x\": [2014, 2013, 2012, 2011, 2010, 2009, 2008, 2007, 2006, 2005, 2004, 2003, 2002, 2001, 2000], \"type\": \"scatter\", \"name\": \"Nonstore retailers\", \"uid\": \"3ba1d8b4-ff55-4c90-be93-1a882d1337fe\"}], {\"autosize\": false, \"yaxis\": {\"title\": \"Sales (USD $)\"}, \"title\": \"Sales by Industry Type\", \"showlegend\": true, \"height\": 500, \"width\": 1000, \"xaxis\": {\"title\": \"Year\"}, \"margin\": {\"pad\": 4, \"r\": 50, \"b\": 100, \"l\": 50, \"t\": 100}}, {\"plotlyServerURL\": \"https://plot.ly\", \"linkText\": \"Export to plot.ly\", \"showLink\": true})});</script>"
      ],
      "text/vnd.plotly.v1+html": [
       "<div id=\"3f2312ce-18f4-414c-9d6d-84b940905343\" style=\"height: 500px; width: 1000px;\" class=\"plotly-graph-div\"></div><script type=\"text/javascript\">require([\"plotly\"], function(Plotly) { window.PLOTLYENV=window.PLOTLYENV || {};window.PLOTLYENV.BASE_URL=\"https://plot.ly\";Plotly.newPlot(\"3f2312ce-18f4-414c-9d6d-84b940905343\", [{\"y\": [99687.0, 95331.0, 91542.0, 87697.0, 85451.0, 84924.0, 98816.0, 111144.0, 112795.0, 109120.0, 103757.0, 96736.0, 94438.0, 91484.0, 91170.0], \"x\": [2014, 2013, 2012, 2011, 2010, 2009, 2008, 2007, 2006, 2005, 2004, 2003, 2002, 2001, 2000], \"type\": \"scatter\", \"name\": \"Furniture and Home Furnishings\", \"uid\": \"9924c5ea-30c4-4bb8-a619-c2a171e8aec3\"}, {\"y\": [104012.0, 103264.0, 102060.0, 99790.0, 97280.0, 95282.0, 105276.0, 106599.0, 105477.0, 100461.0, 93896.0, 86442.0, 83740.0, 80240.0, 82206.0], \"x\": [2014, 2013, 2012, 2011, 2010, 2009, 2008, 2007, 2006, 2005, 2004, 2003, 2002, 2001, 2000], \"type\": \"scatter\", \"name\": \"Electronics and Appliance Stores\", \"uid\": \"84ccf6b4-3ce9-4eaf-abbc-a0692bf57b38\"}, {\"y\": [299891.0, 282176.0, 274000.0, 271333.0, 260201.0, 252643.0, 246501.0, 237164.0, 223336.0, 210085.0, 199290.0, 192426.0, 179983.0, 166533.0, 155234.0], \"x\": [2014, 2013, 2012, 2011, 2010, 2009, 2008, 2007, 2006, 2005, 2004, 2003, 2002, 2001, 2000], \"type\": \"scatter\", \"name\": \"Health and Personal Care Stores\", \"uid\": \"10446c58-8787-4504-baf4-0ae585e71296\"}, {\"y\": [250775.0, 246313.0, 239493.0, 228438.0, 213178.0, 204402.0, 215543.0, 221205.0, 213189.0, 200969.0, 190253.0, 178694.0, 172304.0, 167287.0, 167674.0], \"x\": [2014, 2013, 2012, 2011, 2010, 2009, 2008, 2007, 2006, 2005, 2004, 2003, 2002, 2001, 2000], \"type\": \"scatter\", \"name\": \"Clothing and Clothings Accesories Store\", \"uid\": \"2fda6d83-9ede-4c8e-a5c0-af8287ea26c0\"}, {\"y\": [85375.0, 84550.0, 82981.0, 80689.0, 80319.0, 80146.0, 83595.0, 84651.0, 83148.0, 80889.0, 79284.0, 76767.0, 76680.0, 76836.0, 75808.0], \"x\": [2014, 2013, 2012, 2011, 2010, 2009, 2008, 2007, 2006, 2005, 2004, 2003, 2002, 2001, 2000], \"type\": \"scatter\", \"name\": \"Sporting Goods, Hobby, Books, Music Stores\", \"uid\": \"8a4ffa7c-9d48-4e38-9bf3-8159c512f3ff\"}, {\"y\": [666873.0, 651868.0, 642313.0, 624779.0, 603776.0, 588930.0, 595047.0, 578582.0, 554256.0, 528385.0, 497382.0, 468771.0, 446520.0, 427468.0, 404228.0], \"x\": [2014, 2013, 2012, 2011, 2010, 2009, 2008, 2007, 2006, 2005, 2004, 2003, 2002, 2001, 2000], \"type\": \"scatter\", \"name\": \"General Merchandise Stores\", \"uid\": \"eecda12d-a92a-4289-ab5f-76e0d189aafb\"}, {\"y\": [470196.0, 433440.0, 408171.0, 377443.0, 341699.0, 311592.0, 319353.0, 308767.0, 284343.0, 255579.0, 228977.0, 206359.0, 189279.0, 180563.0, 180453.0], \"x\": [2014, 2013, 2012, 2011, 2010, 2009, 2008, 2007, 2006, 2005, 2004, 2003, 2002, 2001, 2000], \"type\": \"scatter\", \"name\": \"Nonstore retailers\", \"uid\": \"3ba1d8b4-ff55-4c90-be93-1a882d1337fe\"}], {\"autosize\": false, \"yaxis\": {\"title\": \"Sales (USD $)\"}, \"title\": \"Sales by Industry Type\", \"showlegend\": true, \"height\": 500, \"width\": 1000, \"xaxis\": {\"title\": \"Year\"}, \"margin\": {\"pad\": 4, \"r\": 50, \"b\": 100, \"l\": 50, \"t\": 100}}, {\"plotlyServerURL\": \"https://plot.ly\", \"linkText\": \"Export to plot.ly\", \"showLink\": true})});</script>"
      ]
     },
     "metadata": {},
     "output_type": "display_data"
    }
   ],
   "source": [
    "trace1 = go.Scatter(\n",
    "    x=sales_store_type[\"Year\"],\n",
    "    y=sales_store_type[\"Furniture and home furnishings stores\"],\n",
    "    name=\"Furniture and Home Furnishings\"\n",
    "    )\n",
    "trace2 = go.Scatter(\n",
    "    x=sales_store_type[\"Year\"],\n",
    "    y=sales_store_type[\"Electronics and appliance stores\"],\n",
    "    name=\"Electronics and Appliance Stores\"\n",
    "    )\n",
    "trace3 = go.Scatter(\n",
    "    x=sales_store_type[\"Year\"],\n",
    "    y=sales_store_type[\"Health and personal care stores\"],\n",
    "    name=\"Health and Personal Care Stores\"\n",
    "    )\n",
    "trace4 = go.Scatter(\n",
    "    x=sales_store_type[\"Year\"],\n",
    "    y=sales_store_type[\"Clothing and clothing accessories stores\"],\n",
    "    name=\"Clothing and Clothings Accesories Store\"\n",
    "    )\n",
    "trace6 = go.Scatter(\n",
    "    x=sales_store_type[\"Year\"], \n",
    "    y=sales_store_type[\"Sporting goods, hobby, book, and music stores\"],\n",
    "    name=\"Sporting Goods, Hobby, Books, Music Stores\"\n",
    "    )\n",
    "trace7 = go.Scatter(\n",
    "    x=sales_store_type[\"Year\"], \n",
    "    y=sales_store_type[\"General merchandise stores\"],\n",
    "    name=\"General Merchandise Stores\")\n",
    "trace8 = go.Scatter(\n",
    "    x=sales_store_type[\"Year\"], \n",
    "    y=sales_store_type[\"Nonstore retailers\"],\n",
    "    name=\"Nonstore retailers\")\n",
    "\n",
    "layout3 = go.Layout(showlegend = True,\n",
    "                   title=\"Sales by Industry Type\",\n",
    "                   xaxis=dict(title=\"Year\"),\n",
    "                   yaxis=dict(title=\"Sales (USD $)\"),\n",
    "                   autosize=False,\n",
    "                    width=1000,\n",
    "                    height=500,\n",
    "                    margin=go.layout.Margin(\n",
    "                    l=50,\n",
    "                    r=50,\n",
    "                    b=100,\n",
    "                    t=100,\n",
    "                    pad=4)\n",
    "                   )\n",
    "data3 = [trace1,trace2,trace3,trace4,trace6,trace7,trace8]\n",
    "fig3=go.Figure(data=data3, layout=layout3)\n",
    "\n",
    "plotly.offline.iplot(fig3,filename='Sales for Different Kind of Businesses')"
   ]
  },
  {
   "cell_type": "markdown",
   "metadata": {
    "extensions": {
     "jupyter_dashboards": {
      "version": 1,
      "views": {
       "grid_default": {
        "col": 0,
        "height": 4,
        "hidden": false,
        "row": 61,
        "width": 12
       },
       "report_default": {}
      }
     }
    }
   },
   "source": [
    "1. General Merchandise has had the most sales between 2000-2014.\n",
    "2. Non-store retailer is the second highest and is growing rapidly\n",
    "3. Health and PErsonal care is next as top business with greater sales\n",
    "4. Clothing and clothing accessories is the 4th type of business with most sales."
   ]
  },
  {
   "cell_type": "markdown",
   "metadata": {
    "extensions": {
     "jupyter_dashboards": {
      "version": 1,
      "views": {
       "grid_default": {
        "col": 4,
        "height": 4,
        "hidden": false,
        "row": 27,
        "width": 4
       },
       "report_default": {}
      }
     }
    }
   },
   "source": [
    "Let's explore Non-retailer stores more with this dataset"
   ]
  },
  {
   "cell_type": "code",
   "execution_count": 7,
   "metadata": {
    "extensions": {
     "jupyter_dashboards": {
      "version": 1,
      "views": {
       "grid_default": {
        "col": 4,
        "height": 19,
        "hidden": false,
        "row": 42,
        "width": 4
       },
       "report_default": {}
      }
     }
    }
   },
   "outputs": [
    {
     "data": {
      "application/vnd.plotly.v1+json": {
       "config": {
        "linkText": "Export to plot.ly",
        "plotlyServerURL": "https://plot.ly",
        "showLink": true
       },
       "data": [
        {
         "name": "Nonstore retailers",
         "type": "bar",
         "uid": "79b0b2f3-c63d-4ed0-ba59-bb676c089c9d",
         "x": [
          2014,
          2013,
          2012,
          2011,
          2010,
          2009,
          2008,
          2007,
          2006,
          2005,
          2004,
          2003,
          2002,
          2001,
          2000
         ],
         "y": [
          470196,
          433440,
          408171,
          377443,
          341699,
          311592,
          319353,
          308767,
          284343,
          255579,
          228977,
          206359,
          189279,
          180563,
          180453
         ]
        },
        {
         "name": "E-Shopping and mail-order houses",
         "type": "scatter",
         "uid": "acb28308-e81a-44a3-a5c7-bfb9537cf751",
         "x": [
          2014,
          2013,
          2012,
          2011,
          2010,
          2009,
          2008,
          2007,
          2006,
          2005,
          2004,
          2003,
          2002,
          2001,
          2000
         ],
         "y": [
          386135,
          350836,
          328655,
          295755,
          264240,
          236070,
          229445,
          223681,
          202251,
          175900,
          154157,
          134304,
          122214,
          114749,
          113790
         ]
        }
       ],
       "layout": {
        "autosize": false,
        "height": 500,
        "margin": {
         "b": 100,
         "l": 50,
         "pad": 4,
         "r": 50,
         "t": 100
        },
        "showlegend": true,
        "title": "Nonstore Retailers Sales",
        "width": 1000,
        "xaxis": {
         "title": "Year"
        },
        "yaxis": {
         "title": "Sales(USD $M)"
        }
       }
      },
      "text/html": [
       "<div id=\"344e0d35-0e7e-458c-8dd9-6434b0f2a9f7\" style=\"height: 500px; width: 1000px;\" class=\"plotly-graph-div\"></div><script type=\"text/javascript\">require([\"plotly\"], function(Plotly) { window.PLOTLYENV=window.PLOTLYENV || {};window.PLOTLYENV.BASE_URL=\"https://plot.ly\";Plotly.newPlot(\"344e0d35-0e7e-458c-8dd9-6434b0f2a9f7\", [{\"y\": [470196.0, 433440.0, 408171.0, 377443.0, 341699.0, 311592.0, 319353.0, 308767.0, 284343.0, 255579.0, 228977.0, 206359.0, 189279.0, 180563.0, 180453.0], \"x\": [2014, 2013, 2012, 2011, 2010, 2009, 2008, 2007, 2006, 2005, 2004, 2003, 2002, 2001, 2000], \"type\": \"bar\", \"name\": \"Nonstore retailers\", \"uid\": \"79b0b2f3-c63d-4ed0-ba59-bb676c089c9d\"}, {\"y\": [386135.0, 350836.0, 328655.0, 295755.0, 264240.0, 236070.0, 229445.0, 223681.0, 202251.0, 175900.0, 154157.0, 134304.0, 122214.0, 114749.0, 113790.0], \"x\": [2014, 2013, 2012, 2011, 2010, 2009, 2008, 2007, 2006, 2005, 2004, 2003, 2002, 2001, 2000], \"type\": \"scatter\", \"name\": \"E-Shopping and mail-order houses\", \"uid\": \"acb28308-e81a-44a3-a5c7-bfb9537cf751\"}], {\"autosize\": false, \"yaxis\": {\"title\": \"Sales(USD $M)\"}, \"title\": \"Nonstore Retailers Sales\", \"showlegend\": true, \"height\": 500, \"width\": 1000, \"xaxis\": {\"title\": \"Year\"}, \"margin\": {\"pad\": 4, \"r\": 50, \"b\": 100, \"l\": 50, \"t\": 100}}, {\"plotlyServerURL\": \"https://plot.ly\", \"linkText\": \"Export to plot.ly\", \"showLink\": true})});</script>"
      ],
      "text/vnd.plotly.v1+html": [
       "<div id=\"344e0d35-0e7e-458c-8dd9-6434b0f2a9f7\" style=\"height: 500px; width: 1000px;\" class=\"plotly-graph-div\"></div><script type=\"text/javascript\">require([\"plotly\"], function(Plotly) { window.PLOTLYENV=window.PLOTLYENV || {};window.PLOTLYENV.BASE_URL=\"https://plot.ly\";Plotly.newPlot(\"344e0d35-0e7e-458c-8dd9-6434b0f2a9f7\", [{\"y\": [470196.0, 433440.0, 408171.0, 377443.0, 341699.0, 311592.0, 319353.0, 308767.0, 284343.0, 255579.0, 228977.0, 206359.0, 189279.0, 180563.0, 180453.0], \"x\": [2014, 2013, 2012, 2011, 2010, 2009, 2008, 2007, 2006, 2005, 2004, 2003, 2002, 2001, 2000], \"type\": \"bar\", \"name\": \"Nonstore retailers\", \"uid\": \"79b0b2f3-c63d-4ed0-ba59-bb676c089c9d\"}, {\"y\": [386135.0, 350836.0, 328655.0, 295755.0, 264240.0, 236070.0, 229445.0, 223681.0, 202251.0, 175900.0, 154157.0, 134304.0, 122214.0, 114749.0, 113790.0], \"x\": [2014, 2013, 2012, 2011, 2010, 2009, 2008, 2007, 2006, 2005, 2004, 2003, 2002, 2001, 2000], \"type\": \"scatter\", \"name\": \"E-Shopping and mail-order houses\", \"uid\": \"acb28308-e81a-44a3-a5c7-bfb9537cf751\"}], {\"autosize\": false, \"yaxis\": {\"title\": \"Sales(USD $M)\"}, \"title\": \"Nonstore Retailers Sales\", \"showlegend\": true, \"height\": 500, \"width\": 1000, \"xaxis\": {\"title\": \"Year\"}, \"margin\": {\"pad\": 4, \"r\": 50, \"b\": 100, \"l\": 50, \"t\": 100}}, {\"plotlyServerURL\": \"https://plot.ly\", \"linkText\": \"Export to plot.ly\", \"showLink\": true})});</script>"
      ]
     },
     "metadata": {},
     "output_type": "display_data"
    }
   ],
   "source": [
    "trace9 = go.Bar(\n",
    "    x=sales_store_type[\"Year\"], \n",
    "    y=sales_store_type[\"Nonstore retailers\"],\n",
    "    name=\"Nonstore retailers\")\n",
    "trace10 = go.Scatter(\n",
    "    x=sales_store_type[\"Year\"], \n",
    "    y=sales_store_type[\"E-Shopping and mail-order houses\"],\n",
    "    name=\"E-Shopping and mail-order houses\")\n",
    "\n",
    "\n",
    "layout4 = go.Layout(showlegend = True,\n",
    "                   title=\"Nonstore Retailers Sales\",\n",
    "                   xaxis=dict(title=\"Year\"),\n",
    "                   yaxis=dict(title=\"Sales(USD $M)\"),\n",
    "                   autosize=False,\n",
    "                    width=1000,\n",
    "                    height=500,\n",
    "                    margin=go.layout.Margin(\n",
    "                    l=50,\n",
    "                    r=50,\n",
    "                    b=100,\n",
    "                    t=100,\n",
    "                    pad=4)\n",
    "                   )\n",
    "data4 = [trace9,trace10]\n",
    "fig4=go.Figure(data=data4, layout=layout4)\n",
    "\n",
    "plotly.offline.iplot(fig4,filename='Nonstore Retailer')"
   ]
  },
  {
   "cell_type": "markdown",
   "metadata": {
    "extensions": {
     "jupyter_dashboards": {
      "version": 1,
      "views": {
       "grid_default": {
        "col": 4,
        "height": 4,
        "hidden": false,
        "row": 31,
        "width": 4
       },
       "report_default": {}
      }
     }
    }
   },
   "source": [
    "E-Shopping is definitely a big part of non-store retail sales. The next dataset\n",
    "should give more details on this variable."
   ]
  },
  {
   "cell_type": "code",
   "execution_count": 8,
   "metadata": {
    "extensions": {
     "jupyter_dashboards": {
      "version": 1,
      "views": {
       "grid_default": {
        "col": 0,
        "height": 13,
        "hidden": false,
        "row": 65,
        "width": 12
       },
       "report_default": {}
      }
     }
    }
   },
   "outputs": [
    {
     "data": {
      "text/html": [
       "<div>\n",
       "<style scoped>\n",
       "    .dataframe tbody tr th:only-of-type {\n",
       "        vertical-align: middle;\n",
       "    }\n",
       "\n",
       "    .dataframe tbody tr th {\n",
       "        vertical-align: top;\n",
       "    }\n",
       "\n",
       "    .dataframe thead th {\n",
       "        text-align: right;\n",
       "    }\n",
       "</style>\n",
       "<table border=\"1\" class=\"dataframe\">\n",
       "  <thead>\n",
       "    <tr style=\"text-align: right;\">\n",
       "      <th></th>\n",
       "      <th>Year</th>\n",
       "      <th>Total/E-Commerce</th>\n",
       "      <th>Total E-Shopping and Mail-Order Houses</th>\n",
       "      <th>Books and Magazines</th>\n",
       "      <th>Clothing and Clothing Accesories</th>\n",
       "      <th>Computer Hardware</th>\n",
       "      <th>Computer Software</th>\n",
       "      <th>Drugs, Health aids and Beauty aids</th>\n",
       "      <th>Electronics and Appliances</th>\n",
       "      <th>Food,Beer and Wine</th>\n",
       "      <th>Furniture and Home Furnishings</th>\n",
       "      <th>Music and Videos</th>\n",
       "      <th>Office Equipment and Supplies</th>\n",
       "      <th>Sporting Goods</th>\n",
       "      <th>Toys, Hobby Goods and Games</th>\n",
       "      <th>Other Merchandise</th>\n",
       "      <th>Nonmerchandise Receipts</th>\n",
       "    </tr>\n",
       "  </thead>\n",
       "  <tbody>\n",
       "    <tr>\n",
       "      <th>1</th>\n",
       "      <td>2014.0</td>\n",
       "      <td>Total</td>\n",
       "      <td>386065.0</td>\n",
       "      <td>11879.0</td>\n",
       "      <td>53751.0</td>\n",
       "      <td>29527.0</td>\n",
       "      <td>9594.0</td>\n",
       "      <td>93586.0</td>\n",
       "      <td>28158.0</td>\n",
       "      <td>8636.0</td>\n",
       "      <td>26599.0</td>\n",
       "      <td>0.0</td>\n",
       "      <td>0.0</td>\n",
       "      <td>10910.0</td>\n",
       "      <td>10623.0</td>\n",
       "      <td>55104.0</td>\n",
       "      <td>25500.0</td>\n",
       "    </tr>\n",
       "    <tr>\n",
       "      <th>2</th>\n",
       "      <td>2014.0</td>\n",
       "      <td>E-commerce</td>\n",
       "      <td>256269.0</td>\n",
       "      <td>10828.0</td>\n",
       "      <td>46830.0</td>\n",
       "      <td>16884.0</td>\n",
       "      <td>6491.0</td>\n",
       "      <td>19112.0</td>\n",
       "      <td>24234.0</td>\n",
       "      <td>6349.0</td>\n",
       "      <td>23311.0</td>\n",
       "      <td>0.0</td>\n",
       "      <td>0.0</td>\n",
       "      <td>9347.0</td>\n",
       "      <td>8997.0</td>\n",
       "      <td>41543.0</td>\n",
       "      <td>22317.0</td>\n",
       "    </tr>\n",
       "    <tr>\n",
       "      <th>3</th>\n",
       "      <td>2013.0</td>\n",
       "      <td>Total</td>\n",
       "      <td>350487.0</td>\n",
       "      <td>11444.0</td>\n",
       "      <td>46681.0</td>\n",
       "      <td>26981.0</td>\n",
       "      <td>8329.0</td>\n",
       "      <td>91001.0</td>\n",
       "      <td>27541.0</td>\n",
       "      <td>7783.0</td>\n",
       "      <td>22856.0</td>\n",
       "      <td>11263.0</td>\n",
       "      <td>8042.0</td>\n",
       "      <td>9914.0</td>\n",
       "      <td>9125.0</td>\n",
       "      <td>47981.0</td>\n",
       "      <td>21546.0</td>\n",
       "    </tr>\n",
       "    <tr>\n",
       "      <th>4</th>\n",
       "      <td>2013.0</td>\n",
       "      <td>E-commerce</td>\n",
       "      <td>221587.0</td>\n",
       "      <td>10249.0</td>\n",
       "      <td>40198.0</td>\n",
       "      <td>15330.0</td>\n",
       "      <td>5425.0</td>\n",
       "      <td>17456.0</td>\n",
       "      <td>23727.0</td>\n",
       "      <td>5267.0</td>\n",
       "      <td>19588.0</td>\n",
       "      <td>10325.0</td>\n",
       "      <td>0.0</td>\n",
       "      <td>7927.0</td>\n",
       "      <td>0.0</td>\n",
       "      <td>34491.0</td>\n",
       "      <td>17721.0</td>\n",
       "    </tr>\n",
       "    <tr>\n",
       "      <th>5</th>\n",
       "      <td>2012.0</td>\n",
       "      <td>Total</td>\n",
       "      <td>328655.0</td>\n",
       "      <td>10991.0</td>\n",
       "      <td>40451.0</td>\n",
       "      <td>25640.0</td>\n",
       "      <td>8093.0</td>\n",
       "      <td>90714.0</td>\n",
       "      <td>26573.0</td>\n",
       "      <td>7070.0</td>\n",
       "      <td>19420.0</td>\n",
       "      <td>9914.0</td>\n",
       "      <td>8579.0</td>\n",
       "      <td>8506.0</td>\n",
       "      <td>7801.0</td>\n",
       "      <td>44679.0</td>\n",
       "      <td>20224.0</td>\n",
       "    </tr>\n",
       "    <tr>\n",
       "      <th>6</th>\n",
       "      <td>2012.0</td>\n",
       "      <td>E-commerce</td>\n",
       "      <td>195477.0</td>\n",
       "      <td>9778.0</td>\n",
       "      <td>33614.0</td>\n",
       "      <td>14240.0</td>\n",
       "      <td>5425.0</td>\n",
       "      <td>14612.0</td>\n",
       "      <td>22580.0</td>\n",
       "      <td>4934.0</td>\n",
       "      <td>15917.0</td>\n",
       "      <td>8964.0</td>\n",
       "      <td>6869.0</td>\n",
       "      <td>6356.0</td>\n",
       "      <td>6091.0</td>\n",
       "      <td>30045.0</td>\n",
       "      <td>16052.0</td>\n",
       "    </tr>\n",
       "    <tr>\n",
       "      <th>7</th>\n",
       "      <td>2011.0</td>\n",
       "      <td>Total</td>\n",
       "      <td>294697.0</td>\n",
       "      <td>10160.0</td>\n",
       "      <td>35137.0</td>\n",
       "      <td>24948.0</td>\n",
       "      <td>6854.0</td>\n",
       "      <td>82424.0</td>\n",
       "      <td>24622.0</td>\n",
       "      <td>5985.0</td>\n",
       "      <td>16900.0</td>\n",
       "      <td>8225.0</td>\n",
       "      <td>8136.0</td>\n",
       "      <td>6982.0</td>\n",
       "      <td>6794.0</td>\n",
       "      <td>39998.0</td>\n",
       "      <td>17532.0</td>\n",
       "    </tr>\n",
       "    <tr>\n",
       "      <th>8</th>\n",
       "      <td>2011.0</td>\n",
       "      <td>E-commerce</td>\n",
       "      <td>168919.0</td>\n",
       "      <td>8773.0</td>\n",
       "      <td>28196.0</td>\n",
       "      <td>13973.0</td>\n",
       "      <td>4493.0</td>\n",
       "      <td>11845.0</td>\n",
       "      <td>20975.0</td>\n",
       "      <td>3984.0</td>\n",
       "      <td>13536.0</td>\n",
       "      <td>7241.0</td>\n",
       "      <td>6432.0</td>\n",
       "      <td>5103.0</td>\n",
       "      <td>5260.0</td>\n",
       "      <td>25491.0</td>\n",
       "      <td>13617.0</td>\n",
       "    </tr>\n",
       "    <tr>\n",
       "      <th>9</th>\n",
       "      <td>2010.0</td>\n",
       "      <td>Total</td>\n",
       "      <td>263488.0</td>\n",
       "      <td>8860.0</td>\n",
       "      <td>31388.0</td>\n",
       "      <td>22420.0</td>\n",
       "      <td>5834.0</td>\n",
       "      <td>75318.0</td>\n",
       "      <td>21732.0</td>\n",
       "      <td>5267.0</td>\n",
       "      <td>14518.0</td>\n",
       "      <td>0.0</td>\n",
       "      <td>7822.0</td>\n",
       "      <td>6437.0</td>\n",
       "      <td>6022.0</td>\n",
       "      <td>35221.0</td>\n",
       "      <td>15548.0</td>\n",
       "    </tr>\n",
       "    <tr>\n",
       "      <th>10</th>\n",
       "      <td>2010.0</td>\n",
       "      <td>E-commerce</td>\n",
       "      <td>143000.0</td>\n",
       "      <td>7428.0</td>\n",
       "      <td>23480.0</td>\n",
       "      <td>12080.0</td>\n",
       "      <td>3676.0</td>\n",
       "      <td>10952.0</td>\n",
       "      <td>17861.0</td>\n",
       "      <td>3372.0</td>\n",
       "      <td>11150.0</td>\n",
       "      <td>0.0</td>\n",
       "      <td>6009.0</td>\n",
       "      <td>4408.0</td>\n",
       "      <td>4470.0</td>\n",
       "      <td>20851.0</td>\n",
       "      <td>11222.0</td>\n",
       "    </tr>\n",
       "  </tbody>\n",
       "</table>\n",
       "</div>"
      ],
      "text/plain": [
       "      Year Total/E-Commerce  Total E-Shopping and Mail-Order Houses  \\\n",
       "1   2014.0            Total                                386065.0   \n",
       "2   2014.0       E-commerce                                256269.0   \n",
       "3   2013.0            Total                                350487.0   \n",
       "4   2013.0       E-commerce                                221587.0   \n",
       "5   2012.0            Total                                328655.0   \n",
       "6   2012.0       E-commerce                                195477.0   \n",
       "7   2011.0            Total                                294697.0   \n",
       "8   2011.0       E-commerce                                168919.0   \n",
       "9   2010.0            Total                                263488.0   \n",
       "10  2010.0       E-commerce                                143000.0   \n",
       "\n",
       "    Books and Magazines  Clothing and Clothing Accesories  Computer Hardware  \\\n",
       "1               11879.0                           53751.0            29527.0   \n",
       "2               10828.0                           46830.0            16884.0   \n",
       "3               11444.0                           46681.0            26981.0   \n",
       "4               10249.0                           40198.0            15330.0   \n",
       "5               10991.0                           40451.0            25640.0   \n",
       "6                9778.0                           33614.0            14240.0   \n",
       "7               10160.0                           35137.0            24948.0   \n",
       "8                8773.0                           28196.0            13973.0   \n",
       "9                8860.0                           31388.0            22420.0   \n",
       "10               7428.0                           23480.0            12080.0   \n",
       "\n",
       "    Computer Software  Drugs, Health aids and Beauty aids  \\\n",
       "1              9594.0                             93586.0   \n",
       "2              6491.0                             19112.0   \n",
       "3              8329.0                             91001.0   \n",
       "4              5425.0                             17456.0   \n",
       "5              8093.0                             90714.0   \n",
       "6              5425.0                             14612.0   \n",
       "7              6854.0                             82424.0   \n",
       "8              4493.0                             11845.0   \n",
       "9              5834.0                             75318.0   \n",
       "10             3676.0                             10952.0   \n",
       "\n",
       "    Electronics and Appliances  Food,Beer and Wine  \\\n",
       "1                      28158.0              8636.0   \n",
       "2                      24234.0              6349.0   \n",
       "3                      27541.0              7783.0   \n",
       "4                      23727.0              5267.0   \n",
       "5                      26573.0              7070.0   \n",
       "6                      22580.0              4934.0   \n",
       "7                      24622.0              5985.0   \n",
       "8                      20975.0              3984.0   \n",
       "9                      21732.0              5267.0   \n",
       "10                     17861.0              3372.0   \n",
       "\n",
       "    Furniture and Home Furnishings  Music and Videos  \\\n",
       "1                          26599.0               0.0   \n",
       "2                          23311.0               0.0   \n",
       "3                          22856.0           11263.0   \n",
       "4                          19588.0           10325.0   \n",
       "5                          19420.0            9914.0   \n",
       "6                          15917.0            8964.0   \n",
       "7                          16900.0            8225.0   \n",
       "8                          13536.0            7241.0   \n",
       "9                          14518.0               0.0   \n",
       "10                         11150.0               0.0   \n",
       "\n",
       "    Office Equipment and Supplies  Sporting Goods  \\\n",
       "1                             0.0         10910.0   \n",
       "2                             0.0          9347.0   \n",
       "3                          8042.0          9914.0   \n",
       "4                             0.0          7927.0   \n",
       "5                          8579.0          8506.0   \n",
       "6                          6869.0          6356.0   \n",
       "7                          8136.0          6982.0   \n",
       "8                          6432.0          5103.0   \n",
       "9                          7822.0          6437.0   \n",
       "10                         6009.0          4408.0   \n",
       "\n",
       "    Toys, Hobby Goods and Games  Other Merchandise  Nonmerchandise Receipts  \n",
       "1                       10623.0            55104.0                  25500.0  \n",
       "2                        8997.0            41543.0                  22317.0  \n",
       "3                        9125.0            47981.0                  21546.0  \n",
       "4                           0.0            34491.0                  17721.0  \n",
       "5                        7801.0            44679.0                  20224.0  \n",
       "6                        6091.0            30045.0                  16052.0  \n",
       "7                        6794.0            39998.0                  17532.0  \n",
       "8                        5260.0            25491.0                  13617.0  \n",
       "9                        6022.0            35221.0                  15548.0  \n",
       "10                       4470.0            20851.0                  11222.0  "
      ]
     },
     "execution_count": 8,
     "metadata": {},
     "output_type": "execute_result"
    }
   ],
   "source": [
    "ecommerce = pd.read_excel(\"ECommerce sales by merchandise category 1999-2015.xls\", header=None)\n",
    "ecommerce=ecommerce[2:]\n",
    "ecommerce=ecommerce[:18]\n",
    "ecommerce=ecommerce.transpose()\n",
    "ecommerce.rename(columns={3:\"Year\",4:\"Total/E-Commerce\", 5:\"Total E-Shopping and Mail-Order Houses\", 6:\"Books and Magazines\",7:\"Clothing and Clothing Accesories\",8:\"Computer Hardware\",\n",
    "                         9:\"Computer Software\", 10:\"Drugs, Health aids and Beauty aids\", 11:\"Electronics and Appliances\", 12:\"Food,Beer and Wine\",13:\"Furniture and Home Furnishings\",\n",
    "                         14:\"Music and Videos\", 15:\"Office Equipment and Supplies\", 16:\"Sporting Goods\", 17:\"Toys, Hobby Goods and Games\", 18:\"Other Merchandise\",19:\"Nonmerchandise Receipts\",\n",
    "                         }, inplace=True)\n",
    "ecommerce=ecommerce[1:]\n",
    "ecommerce.replace(\"S\",0,inplace=True)\n",
    "ecommerce.replace(\"2014r\",2014,inplace=True)\n",
    "ecommerce.replace(\"2013r\", 2013, inplace=True)\n",
    "ecommerce.replace(\"2012r\", 2012, inplace=True)\n",
    "ecommerce.replace(\"2011r\", 2011, inplace=True)\n",
    "ecommerce.replace(\"2010r\", 2010, inplace=True)\n",
    "for each in ecommerce[\"Year\"]:\n",
    "    ecommerce.fillna(method='ffill',inplace=True)# ill NaN value with las value seen in column\n",
    "\n",
    "del ecommerce[2]\n",
    "ecommerce[:10]"
   ]
  },
  {
   "cell_type": "markdown",
   "metadata": {
    "extensions": {
     "jupyter_dashboards": {
      "version": 1,
      "views": {
       "grid_default": {
        "col": 8,
        "height": 4,
        "hidden": false,
        "row": 42,
        "width": 4
       },
       "report_default": {}
      }
     }
    }
   },
   "source": [
    "#### Explore with some visualizations"
   ]
  },
  {
   "cell_type": "code",
   "execution_count": 9,
   "metadata": {
    "extensions": {
     "jupyter_dashboards": {
      "version": 1,
      "views": {
       "grid_default": {
        "col": 0,
        "height": 19,
        "hidden": false,
        "row": 78,
        "width": 4
       },
       "report_default": {}
      }
     }
    }
   },
   "outputs": [
    {
     "data": {
      "application/vnd.plotly.v1+json": {
       "config": {
        "linkText": "Export to plot.ly",
        "plotlyServerURL": "https://plot.ly",
        "showLink": true
       },
       "data": [
        {
         "name": "Total",
         "type": "bar",
         "uid": "df0885ec-7a2f-489a-9838-011262ed49e6",
         "x": [
          2014,
          2013,
          2012,
          2011,
          2010,
          2009,
          2008,
          2007,
          2006,
          2005,
          2004,
          2003,
          2002,
          2001,
          2000
         ],
         "y": [
          386065,
          350487,
          328655,
          294697,
          263488,
          235625,
          229242,
          223681,
          202251,
          175900,
          154157,
          134304,
          122214,
          114749,
          113790
         ]
        },
        {
         "name": "E-Commerce",
         "type": "bar",
         "uid": "0979ef37-172f-4e26-92e6-eb541f2f8b36",
         "x": [
          2014,
          2013,
          2012,
          2011,
          2010,
          2009,
          2008,
          2007,
          2006,
          2005,
          2004,
          2003,
          2002,
          2001,
          2000
         ],
         "y": [
          256269,
          221587,
          195477,
          168919,
          143000,
          121173,
          114642,
          105467,
          85945,
          68114,
          52996,
          41962,
          33764,
          25892,
          21221
         ]
        }
       ],
       "layout": {
        "title": "Total vs E-Commerce Growth",
        "xaxis": {
         "title": "Year"
        },
        "yaxis": {
         "title": "Sales"
        }
       }
      },
      "text/html": [
       "<div id=\"39d55e39-d0ef-4b7d-93f5-614cfbb344f2\" style=\"height: 525px; width: 100%;\" class=\"plotly-graph-div\"></div><script type=\"text/javascript\">require([\"plotly\"], function(Plotly) { window.PLOTLYENV=window.PLOTLYENV || {};window.PLOTLYENV.BASE_URL=\"https://plot.ly\";Plotly.newPlot(\"39d55e39-d0ef-4b7d-93f5-614cfbb344f2\", [{\"y\": [386065.0, 350487.0, 328655.0, 294697.0, 263488.0, 235625.0, 229242.0, 223681.0, 202251.0, 175900.0, 154157.0, 134304.0, 122214.0, 114749.0, 113790.0], \"x\": [2014.0, 2013.0, 2012.0, 2011.0, 2010.0, 2009.0, 2008.0, 2007.0, 2006.0, 2005.0, 2004.0, 2003.0, 2002.0, 2001.0, 2000.0], \"type\": \"bar\", \"name\": \"Total\", \"uid\": \"df0885ec-7a2f-489a-9838-011262ed49e6\"}, {\"y\": [256269.0, 221587.0, 195477.0, 168919.0, 143000.0, 121173.0, 114642.0, 105467.0, 85945.0, 68114.0, 52996.0, 41962.0, 33764.0, 25892.0, 21221.0], \"x\": [2014.0, 2013.0, 2012.0, 2011.0, 2010.0, 2009.0, 2008.0, 2007.0, 2006.0, 2005.0, 2004.0, 2003.0, 2002.0, 2001.0, 2000.0], \"type\": \"bar\", \"name\": \"E-Commerce\", \"uid\": \"0979ef37-172f-4e26-92e6-eb541f2f8b36\"}], {\"title\": \"Total vs E-Commerce Growth\", \"xaxis\": {\"title\": \"Year\"}, \"yaxis\": {\"title\": \"Sales\"}}, {\"plotlyServerURL\": \"https://plot.ly\", \"linkText\": \"Export to plot.ly\", \"showLink\": true})});</script><script type=\"text/javascript\">window.addEventListener(\"resize\", function(){window._Plotly.Plots.resize(document.getElementById(\"39d55e39-d0ef-4b7d-93f5-614cfbb344f2\"));});</script>"
      ],
      "text/vnd.plotly.v1+html": [
       "<div id=\"39d55e39-d0ef-4b7d-93f5-614cfbb344f2\" style=\"height: 525px; width: 100%;\" class=\"plotly-graph-div\"></div><script type=\"text/javascript\">require([\"plotly\"], function(Plotly) { window.PLOTLYENV=window.PLOTLYENV || {};window.PLOTLYENV.BASE_URL=\"https://plot.ly\";Plotly.newPlot(\"39d55e39-d0ef-4b7d-93f5-614cfbb344f2\", [{\"y\": [386065.0, 350487.0, 328655.0, 294697.0, 263488.0, 235625.0, 229242.0, 223681.0, 202251.0, 175900.0, 154157.0, 134304.0, 122214.0, 114749.0, 113790.0], \"x\": [2014.0, 2013.0, 2012.0, 2011.0, 2010.0, 2009.0, 2008.0, 2007.0, 2006.0, 2005.0, 2004.0, 2003.0, 2002.0, 2001.0, 2000.0], \"type\": \"bar\", \"name\": \"Total\", \"uid\": \"df0885ec-7a2f-489a-9838-011262ed49e6\"}, {\"y\": [256269.0, 221587.0, 195477.0, 168919.0, 143000.0, 121173.0, 114642.0, 105467.0, 85945.0, 68114.0, 52996.0, 41962.0, 33764.0, 25892.0, 21221.0], \"x\": [2014.0, 2013.0, 2012.0, 2011.0, 2010.0, 2009.0, 2008.0, 2007.0, 2006.0, 2005.0, 2004.0, 2003.0, 2002.0, 2001.0, 2000.0], \"type\": \"bar\", \"name\": \"E-Commerce\", \"uid\": \"0979ef37-172f-4e26-92e6-eb541f2f8b36\"}], {\"title\": \"Total vs E-Commerce Growth\", \"xaxis\": {\"title\": \"Year\"}, \"yaxis\": {\"title\": \"Sales\"}}, {\"plotlyServerURL\": \"https://plot.ly\", \"linkText\": \"Export to plot.ly\", \"showLink\": true})});</script><script type=\"text/javascript\">window.addEventListener(\"resize\", function(){window._Plotly.Plots.resize(document.getElementById(\"39d55e39-d0ef-4b7d-93f5-614cfbb344f2\"));});</script>"
      ]
     },
     "metadata": {},
     "output_type": "display_data"
    }
   ],
   "source": [
    "trace11 = go.Bar(\n",
    "    x=ecommerce[\"Year\"][ecommerce[\"Total/E-Commerce\"]=='Total'],\n",
    "    y=ecommerce[\"Total E-Shopping and Mail-Order Houses\"][ecommerce[\"Total/E-Commerce\"]=='Total'],\n",
    "    name=\"Total\"\n",
    ")\n",
    "\n",
    "trace12 = go.Bar(\n",
    "    x=ecommerce[\"Year\"][ecommerce[\"Total/E-Commerce\"]=='Total'],\n",
    "    y=ecommerce[\"Total E-Shopping and Mail-Order Houses\"][ecommerce[\"Total/E-Commerce\"]=='E-commerce'],\n",
    "    name=\"E-Commerce\"\n",
    ")\n",
    "\n",
    "data5=[trace11,trace12]\n",
    "layout5=go.Layout(\n",
    "    title=\"Total vs E-Commerce Growth\",\n",
    "    yaxis=dict(\n",
    "        title=\"Sales\"),\n",
    "    xaxis=dict(\n",
    "        title=\"Year\")\n",
    "    )\n",
    "\n",
    "fig5=go.Figure(data=data5, layout=layout5)\n",
    "plotly.offline.iplot(fig5, filename=\"Total vs E-Commerce Growth\")"
   ]
  },
  {
   "cell_type": "markdown",
   "metadata": {
    "extensions": {
     "jupyter_dashboards": {
      "version": 1,
      "views": {
       "grid_default": {
        "col": 0,
        "height": 4,
        "hidden": false,
        "row": 97,
        "width": 12
       },
       "report_default": {}
      }
     }
    }
   },
   "source": [
    "The table includes everything under E-Shopping and Mail-Order.\n",
    "E-commerce sales are sales of goods and services where the buyer places an order, or the price and terms of the sale are negotiated, over an Internet, mobile device (M-commerce), extranet, Electronic Data Interchange (EDI) network, electronic mail, or other comparable online system. Payment may or may not be made online.\t\t\t\t\t\t\t\t\t\t\t\t\t"
   ]
  },
  {
   "cell_type": "markdown",
   "metadata": {
    "extensions": {
     "jupyter_dashboards": {
      "version": 1,
      "views": {
       "grid_default": {
        "col": 8,
        "height": 4,
        "hidden": false,
        "row": 46,
        "width": 4
       },
       "report_default": {}
      }
     }
    }
   },
   "source": [
    "I am curious to know how the E-commerce part compares to the data from Amazon.\n",
    "The amazon data was taken from their annual reports and put in an excel sheet "
   ]
  },
  {
   "cell_type": "code",
   "execution_count": 10,
   "metadata": {
    "extensions": {
     "jupyter_dashboards": {
      "version": 1,
      "views": {
       "grid_default": {
        "col": 4,
        "height": 15,
        "hidden": false,
        "row": 78,
        "width": 4
       },
       "report_default": {}
      }
     }
    }
   },
   "outputs": [
    {
     "data": {
      "text/html": [
       "<div>\n",
       "<style scoped>\n",
       "    .dataframe tbody tr th:only-of-type {\n",
       "        vertical-align: middle;\n",
       "    }\n",
       "\n",
       "    .dataframe tbody tr th {\n",
       "        vertical-align: top;\n",
       "    }\n",
       "\n",
       "    .dataframe thead th {\n",
       "        text-align: right;\n",
       "    }\n",
       "</style>\n",
       "<table border=\"1\" class=\"dataframe\">\n",
       "  <thead>\n",
       "    <tr style=\"text-align: right;\">\n",
       "      <th></th>\n",
       "      <th>Year</th>\n",
       "      <th>Sales</th>\n",
       "    </tr>\n",
       "  </thead>\n",
       "  <tbody>\n",
       "    <tr>\n",
       "      <th>1</th>\n",
       "      <td>2000</td>\n",
       "      <td>497</td>\n",
       "    </tr>\n",
       "    <tr>\n",
       "      <th>2</th>\n",
       "      <td>2001</td>\n",
       "      <td>594</td>\n",
       "    </tr>\n",
       "    <tr>\n",
       "      <th>3</th>\n",
       "      <td>2002</td>\n",
       "      <td>747</td>\n",
       "    </tr>\n",
       "    <tr>\n",
       "      <th>4</th>\n",
       "      <td>2003</td>\n",
       "      <td>1103</td>\n",
       "    </tr>\n",
       "    <tr>\n",
       "      <th>5</th>\n",
       "      <td>2004</td>\n",
       "      <td>1686</td>\n",
       "    </tr>\n",
       "    <tr>\n",
       "      <th>6</th>\n",
       "      <td>2005</td>\n",
       "      <td>2329</td>\n",
       "    </tr>\n",
       "    <tr>\n",
       "      <th>7</th>\n",
       "      <td>2006</td>\n",
       "      <td>3361</td>\n",
       "    </tr>\n",
       "    <tr>\n",
       "      <th>8</th>\n",
       "      <td>2007</td>\n",
       "      <td>5210</td>\n",
       "    </tr>\n",
       "    <tr>\n",
       "      <th>9</th>\n",
       "      <td>2008</td>\n",
       "      <td>7540</td>\n",
       "    </tr>\n",
       "    <tr>\n",
       "      <th>10</th>\n",
       "      <td>2009</td>\n",
       "      <td>11082</td>\n",
       "    </tr>\n",
       "    <tr>\n",
       "      <th>11</th>\n",
       "      <td>2010</td>\n",
       "      <td>18363</td>\n",
       "    </tr>\n",
       "    <tr>\n",
       "      <th>12</th>\n",
       "      <td>2011</td>\n",
       "      <td>28712</td>\n",
       "    </tr>\n",
       "    <tr>\n",
       "      <th>13</th>\n",
       "      <td>2012</td>\n",
       "      <td>38628</td>\n",
       "    </tr>\n",
       "    <tr>\n",
       "      <th>14</th>\n",
       "      <td>2013</td>\n",
       "      <td>48802</td>\n",
       "    </tr>\n",
       "    <tr>\n",
       "      <th>15</th>\n",
       "      <td>2014</td>\n",
       "      <td>60886</td>\n",
       "    </tr>\n",
       "  </tbody>\n",
       "</table>\n",
       "</div>"
      ],
      "text/plain": [
       "    Year  Sales\n",
       "1   2000    497\n",
       "2   2001    594\n",
       "3   2002    747\n",
       "4   2003   1103\n",
       "5   2004   1686\n",
       "6   2005   2329\n",
       "7   2006   3361\n",
       "8   2007   5210\n",
       "9   2008   7540\n",
       "10  2009  11082\n",
       "11  2010  18363\n",
       "12  2011  28712\n",
       "13  2012  38628\n",
       "14  2013  48802\n",
       "15  2014  60886"
      ]
     },
     "execution_count": 10,
     "metadata": {},
     "output_type": "execute_result"
    }
   ],
   "source": [
    "Amazon=pd.read_excel(\"Amazon Sales2000-2014.xlsx\", header=None)\n",
    "Amazon=Amazon.transpose()\n",
    "Amazon.rename(columns={0:\"Year\",1:\"Sales\"}, inplace=True)\n",
    "Amazon=Amazon[1:]\n",
    "Amazon"
   ]
  },
  {
   "cell_type": "code",
   "execution_count": 11,
   "metadata": {
    "extensions": {
     "jupyter_dashboards": {
      "version": 1,
      "views": {
       "grid_default": {
        "col": 8,
        "height": 19,
        "hidden": false,
        "row": 78,
        "width": 4
       },
       "report_default": {}
      }
     }
    }
   },
   "outputs": [
    {
     "data": {
      "application/vnd.plotly.v1+json": {
       "config": {
        "linkText": "Export to plot.ly",
        "plotlyServerURL": "https://plot.ly",
        "showLink": true
       },
       "data": [
        {
         "name": "Total",
         "type": "bar",
         "uid": "49a19b4d-654c-4103-9c5b-0fdc2b2b3fad",
         "x": [
          2014,
          2013,
          2012,
          2011,
          2010,
          2009,
          2008,
          2007,
          2006,
          2005,
          2004,
          2003,
          2002,
          2001,
          2000
         ],
         "y": [
          386065,
          350487,
          328655,
          294697,
          263488,
          235625,
          229242,
          223681,
          202251,
          175900,
          154157,
          134304,
          122214,
          114749,
          113790
         ]
        },
        {
         "name": "E-Commerce",
         "type": "bar",
         "uid": "24f1c767-0f34-4572-93f4-bfbea73d8101",
         "x": [
          2014,
          2013,
          2012,
          2011,
          2010,
          2009,
          2008,
          2007,
          2006,
          2005,
          2004,
          2003,
          2002,
          2001,
          2000
         ],
         "y": [
          256269,
          221587,
          195477,
          168919,
          143000,
          121173,
          114642,
          105467,
          85945,
          68114,
          52996,
          41962,
          33764,
          25892,
          21221
         ]
        },
        {
         "name": "Amazon",
         "type": "bar",
         "uid": "48ec85ff-4b11-48ca-ad8b-be218dfbddf1",
         "x": [
          2000,
          2001,
          2002,
          2003,
          2004,
          2005,
          2006,
          2007,
          2008,
          2009,
          2010,
          2011,
          2012,
          2013,
          2014
         ],
         "y": [
          497,
          594,
          747,
          1103,
          1686,
          2329,
          3361,
          5210,
          7540,
          11082,
          18363,
          28712,
          38628,
          48802,
          60886
         ]
        }
       ],
       "layout": {
        "title": "Total vs E-Commerce vs Amazon",
        "xaxis": {
         "title": "Year"
        },
        "yaxis": {
         "title": "Sales"
        }
       }
      },
      "text/html": [
       "<div id=\"38113234-ec3c-46fa-b073-0c0b5661b12a\" style=\"height: 525px; width: 100%;\" class=\"plotly-graph-div\"></div><script type=\"text/javascript\">require([\"plotly\"], function(Plotly) { window.PLOTLYENV=window.PLOTLYENV || {};window.PLOTLYENV.BASE_URL=\"https://plot.ly\";Plotly.newPlot(\"38113234-ec3c-46fa-b073-0c0b5661b12a\", [{\"y\": [386065.0, 350487.0, 328655.0, 294697.0, 263488.0, 235625.0, 229242.0, 223681.0, 202251.0, 175900.0, 154157.0, 134304.0, 122214.0, 114749.0, 113790.0], \"x\": [2014.0, 2013.0, 2012.0, 2011.0, 2010.0, 2009.0, 2008.0, 2007.0, 2006.0, 2005.0, 2004.0, 2003.0, 2002.0, 2001.0, 2000.0], \"type\": \"bar\", \"name\": \"Total\", \"uid\": \"49a19b4d-654c-4103-9c5b-0fdc2b2b3fad\"}, {\"y\": [256269.0, 221587.0, 195477.0, 168919.0, 143000.0, 121173.0, 114642.0, 105467.0, 85945.0, 68114.0, 52996.0, 41962.0, 33764.0, 25892.0, 21221.0], \"x\": [2014.0, 2013.0, 2012.0, 2011.0, 2010.0, 2009.0, 2008.0, 2007.0, 2006.0, 2005.0, 2004.0, 2003.0, 2002.0, 2001.0, 2000.0], \"type\": \"bar\", \"name\": \"E-Commerce\", \"uid\": \"24f1c767-0f34-4572-93f4-bfbea73d8101\"}, {\"y\": [497, 594, 747, 1103, 1686, 2329, 3361, 5210, 7540, 11082, 18363, 28712, 38628, 48802, 60886], \"x\": [2000, 2001, 2002, 2003, 2004, 2005, 2006, 2007, 2008, 2009, 2010, 2011, 2012, 2013, 2014], \"type\": \"bar\", \"name\": \"Amazon\", \"uid\": \"48ec85ff-4b11-48ca-ad8b-be218dfbddf1\"}], {\"title\": \"Total vs E-Commerce vs Amazon\", \"xaxis\": {\"title\": \"Year\"}, \"yaxis\": {\"title\": \"Sales\"}}, {\"plotlyServerURL\": \"https://plot.ly\", \"linkText\": \"Export to plot.ly\", \"showLink\": true})});</script><script type=\"text/javascript\">window.addEventListener(\"resize\", function(){window._Plotly.Plots.resize(document.getElementById(\"38113234-ec3c-46fa-b073-0c0b5661b12a\"));});</script>"
      ],
      "text/vnd.plotly.v1+html": [
       "<div id=\"38113234-ec3c-46fa-b073-0c0b5661b12a\" style=\"height: 525px; width: 100%;\" class=\"plotly-graph-div\"></div><script type=\"text/javascript\">require([\"plotly\"], function(Plotly) { window.PLOTLYENV=window.PLOTLYENV || {};window.PLOTLYENV.BASE_URL=\"https://plot.ly\";Plotly.newPlot(\"38113234-ec3c-46fa-b073-0c0b5661b12a\", [{\"y\": [386065.0, 350487.0, 328655.0, 294697.0, 263488.0, 235625.0, 229242.0, 223681.0, 202251.0, 175900.0, 154157.0, 134304.0, 122214.0, 114749.0, 113790.0], \"x\": [2014.0, 2013.0, 2012.0, 2011.0, 2010.0, 2009.0, 2008.0, 2007.0, 2006.0, 2005.0, 2004.0, 2003.0, 2002.0, 2001.0, 2000.0], \"type\": \"bar\", \"name\": \"Total\", \"uid\": \"49a19b4d-654c-4103-9c5b-0fdc2b2b3fad\"}, {\"y\": [256269.0, 221587.0, 195477.0, 168919.0, 143000.0, 121173.0, 114642.0, 105467.0, 85945.0, 68114.0, 52996.0, 41962.0, 33764.0, 25892.0, 21221.0], \"x\": [2014.0, 2013.0, 2012.0, 2011.0, 2010.0, 2009.0, 2008.0, 2007.0, 2006.0, 2005.0, 2004.0, 2003.0, 2002.0, 2001.0, 2000.0], \"type\": \"bar\", \"name\": \"E-Commerce\", \"uid\": \"24f1c767-0f34-4572-93f4-bfbea73d8101\"}, {\"y\": [497, 594, 747, 1103, 1686, 2329, 3361, 5210, 7540, 11082, 18363, 28712, 38628, 48802, 60886], \"x\": [2000, 2001, 2002, 2003, 2004, 2005, 2006, 2007, 2008, 2009, 2010, 2011, 2012, 2013, 2014], \"type\": \"bar\", \"name\": \"Amazon\", \"uid\": \"48ec85ff-4b11-48ca-ad8b-be218dfbddf1\"}], {\"title\": \"Total vs E-Commerce vs Amazon\", \"xaxis\": {\"title\": \"Year\"}, \"yaxis\": {\"title\": \"Sales\"}}, {\"plotlyServerURL\": \"https://plot.ly\", \"linkText\": \"Export to plot.ly\", \"showLink\": true})});</script><script type=\"text/javascript\">window.addEventListener(\"resize\", function(){window._Plotly.Plots.resize(document.getElementById(\"38113234-ec3c-46fa-b073-0c0b5661b12a\"));});</script>"
      ]
     },
     "metadata": {},
     "output_type": "display_data"
    }
   ],
   "source": [
    "trace13 = go.Bar(\n",
    "    x=ecommerce[\"Year\"][ecommerce[\"Total/E-Commerce\"]=='Total'],\n",
    "    y=ecommerce[\"Total E-Shopping and Mail-Order Houses\"][ecommerce[\"Total/E-Commerce\"]=='E-commerce'],\n",
    "    name=\"E-Commerce\"\n",
    ")\n",
    "trace14 = go.Bar(\n",
    "    x=Amazon[\"Year\"],\n",
    "    y=Amazon[\"Sales\"],\n",
    "    name=\"Amazon\"\n",
    ")\n",
    "data6=[trace11,trace13,trace14]\n",
    "layout6=go.Layout(\n",
    "    title=\"Total vs E-Commerce vs Amazon\",\n",
    "    yaxis=dict(\n",
    "        title=\"Sales\"),\n",
    "    xaxis=dict(\n",
    "        title=\"Year\")\n",
    "    )\n",
    "    \n",
    "fig6=go.Figure(data=data6, layout=layout6)\n",
    "plotly.offline.iplot(fig6, filename=\"Total vs E-Commerce vs Amazon\")"
   ]
  },
  {
   "cell_type": "markdown",
   "metadata": {
    "extensions": {
     "jupyter_dashboards": {
      "version": 1,
      "views": {
       "grid_default": {
        "col": 0,
        "height": 4,
        "hidden": false,
        "row": 101,
        "width": 12
       },
       "report_default": {}
      }
     }
    }
   },
   "source": [
    "We definitely see that E-commerce is growing as well as Amazon. \n",
    "However, Amazon still doesn't seem to be dominating the industry, at least up to 2014. \n",
    "The table below shows the CAGR(Compounded Annual Growth Rate) for E-Shopping and for E-commerce. This one is calculated using ((beginning year/final year)^(1/total years))-1 "
   ]
  },
  {
   "cell_type": "code",
   "execution_count": 12,
   "metadata": {
    "extensions": {
     "jupyter_dashboards": {
      "version": 1,
      "views": {
       "grid_default": {
        "col": 0,
        "height": 6,
        "hidden": false,
        "row": 105,
        "width": 12
       },
       "report_default": {}
      }
     }
    }
   },
   "outputs": [
    {
     "data": {
      "text/html": [
       "<div>\n",
       "<style scoped>\n",
       "    .dataframe tbody tr th:only-of-type {\n",
       "        vertical-align: middle;\n",
       "    }\n",
       "\n",
       "    .dataframe tbody tr th {\n",
       "        vertical-align: top;\n",
       "    }\n",
       "\n",
       "    .dataframe thead th {\n",
       "        text-align: right;\n",
       "    }\n",
       "</style>\n",
       "<table border=\"1\" class=\"dataframe\">\n",
       "  <thead>\n",
       "    <tr style=\"text-align: right;\">\n",
       "      <th></th>\n",
       "      <th>Total/E-Commerce</th>\n",
       "      <th>Total E-Shopping and Mail-Order Houses</th>\n",
       "      <th>Books and Magazines</th>\n",
       "      <th>Clothing and Clothing Accesories</th>\n",
       "      <th>Computer Hardware</th>\n",
       "      <th>Computer Software</th>\n",
       "      <th>Drugs, Health aids and Beauty aids</th>\n",
       "      <th>Electronics and Appliances</th>\n",
       "      <th>Food,Beer and Wine</th>\n",
       "      <th>Furniture and Home Furnishings</th>\n",
       "      <th>Music and Videos</th>\n",
       "      <th>Office Equipment and Supplies</th>\n",
       "      <th>Sporting Goods</th>\n",
       "      <th>Toys, Hobby Goods and Games</th>\n",
       "      <th>Other Merchandise</th>\n",
       "      <th>Nonmerchandise Receipts</th>\n",
       "    </tr>\n",
       "  </thead>\n",
       "  <tbody>\n",
       "    <tr>\n",
       "      <th>31</th>\n",
       "      <td>CAGR_Total</td>\n",
       "      <td>9.118122</td>\n",
       "      <td>7.533528</td>\n",
       "      <td>9.331657</td>\n",
       "      <td>0.582521</td>\n",
       "      <td>7.030298</td>\n",
       "      <td>13.674543</td>\n",
       "      <td>15.732623</td>\n",
       "      <td>11.174207</td>\n",
       "      <td>10.520983</td>\n",
       "      <td>1154.0</td>\n",
       "      <td>1375.0</td>\n",
       "      <td>13.762772</td>\n",
       "      <td>9.011999</td>\n",
       "      <td>9.114535</td>\n",
       "      <td>16.014239</td>\n",
       "    </tr>\n",
       "    <tr>\n",
       "      <th>32</th>\n",
       "      <td>CAGR_Ecommerce</td>\n",
       "      <td>19.476016</td>\n",
       "      <td>13.861609</td>\n",
       "      <td>24.165875</td>\n",
       "      <td>7.607432</td>\n",
       "      <td>13.452184</td>\n",
       "      <td>26.631575</td>\n",
       "      <td>24.494780</td>\n",
       "      <td>18.481699</td>\n",
       "      <td>25.169164</td>\n",
       "      <td>1154.0</td>\n",
       "      <td>1375.0</td>\n",
       "      <td>25.045418</td>\n",
       "      <td>18.806497</td>\n",
       "      <td>24.811947</td>\n",
       "      <td>24.780166</td>\n",
       "    </tr>\n",
       "  </tbody>\n",
       "</table>\n",
       "</div>"
      ],
      "text/plain": [
       "   Total/E-Commerce  Total E-Shopping and Mail-Order Houses  \\\n",
       "31       CAGR_Total                                9.118122   \n",
       "32   CAGR_Ecommerce                               19.476016   \n",
       "\n",
       "    Books and Magazines  Clothing and Clothing Accesories  Computer Hardware  \\\n",
       "31             7.533528                          9.331657           0.582521   \n",
       "32            13.861609                         24.165875           7.607432   \n",
       "\n",
       "    Computer Software  Drugs, Health aids and Beauty aids  \\\n",
       "31           7.030298                           13.674543   \n",
       "32          13.452184                           26.631575   \n",
       "\n",
       "    Electronics and Appliances  Food,Beer and Wine  \\\n",
       "31                   15.732623           11.174207   \n",
       "32                   24.494780           18.481699   \n",
       "\n",
       "    Furniture and Home Furnishings  Music and Videos  \\\n",
       "31                       10.520983            1154.0   \n",
       "32                       25.169164            1154.0   \n",
       "\n",
       "    Office Equipment and Supplies  Sporting Goods  \\\n",
       "31                         1375.0       13.762772   \n",
       "32                         1375.0       25.045418   \n",
       "\n",
       "    Toys, Hobby Goods and Games  Other Merchandise  Nonmerchandise Receipts  \n",
       "31                     9.011999           9.114535                16.014239  \n",
       "32                    18.806497          24.811947                24.780166  "
      ]
     },
     "execution_count": 12,
     "metadata": {},
     "output_type": "execute_result"
    }
   ],
   "source": [
    "cagr=ecommerce.iloc[30:]\n",
    "ecommerce[10:]\n",
    "del cagr[\"Year\"]\n",
    "cagr"
   ]
  },
  {
   "cell_type": "markdown",
   "metadata": {},
   "source": [
    "#### Results:\n",
    "As shown in the Retail and Food Services Chart, most types of businesses suffered a decline in sales between 2008-2009, with the exception of Health and Personal Care stores, whose sales have been relatively consistent. This is plausible considering a lot of the products sold by these health and personal care stores might be seeing as necessities. The winners on one of the previous chart are the General Merchandise Stores and the Non-store retailers, which is probably referring to e-commerce stores. General Merchandise Stores such as Walmart and Target have the scale and product mix to stay competitive, while smaller and focused retailers are facing competition from these larger retailers. Clothing stores have been struggling as traditional clothing stores are facing more competition from fast fashion stores (Zara, H&M) as well as Non-retail and General Merchandise Stores.\n",
    "\n",
    "In the Non-store Retailer chart, E-Shopping and mail order grew similarly to the general Non-store Retailers Sales, though slightly faster. This means that it made up a bigger share of the overall sales. This makes sense considering the very fast growth of Amazon and Walmart's e-commerce business, Jet.com, which they acquired a few years ago. Most, if not all, large retailers have e-commerce sites and see their sales shifting from in store to e-shopping.\n",
    "\n",
    "In the Total vs E-Commerce Chart, Sales of E-Commerce showed a faster growth than overall sales. In 2008, it reached over 50% of total sales. Again, with large online retailers such as Amazon and Jet.com, and other stores increasing their e-commerce footprint this makes sense. This also might have been as a way to cut costs with traditional retail supply chains, especially starting around 2007-2009, when the economy suffered a downturn."
   ]
  },
  {
   "cell_type": "markdown",
   "metadata": {},
   "source": [
    "#### Conclusion:\n",
    "After reading a few articles about the topic and seeing the numbers, we can see that Amazon seems to be the winner but, they are just part of the retail industry. The success of Amazon also has to do with other parts of the business that some people fail to recognize. As one of the articles I read, the retail industry just seems to be evolving and all businesses need to catch up and find new ways to attract and keep their customer."
   ]
  },
  {
   "cell_type": "markdown",
   "metadata": {},
   "source": [
    "#### Data Sources: \n",
    "US retail sales by store type 2009-2014 from: https://data.world/garyhoov/retail-sales-growth \n",
    "\n",
    "ECommerce Sales by Merchandise Category 1999-2015: https://data.world/garyhoov/ecommerce-sales-by-merchandise-category-1999-2015 "
   ]
  }
 ],
 "metadata": {
  "extensions": {
   "jupyter_dashboards": {
    "activeView": "grid_default",
    "version": 1,
    "views": {
     "grid_default": {
      "cellMargin": 10,
      "defaultCellHeight": 20,
      "maxColumns": 12,
      "name": "grid",
      "type": "grid"
     },
     "report_default": {
      "name": "report",
      "type": "report"
     }
    }
   }
  },
  "kernelspec": {
   "display_name": "Python [default]",
   "language": "python",
   "name": "python2"
  },
  "language_info": {
   "codemirror_mode": {
    "name": "ipython",
    "version": 2
   },
   "file_extension": ".py",
   "mimetype": "text/x-python",
   "name": "python",
   "nbconvert_exporter": "python",
   "pygments_lexer": "ipython2",
   "version": "2.7.15"
  }
 },
 "nbformat": 4,
 "nbformat_minor": 2
}
