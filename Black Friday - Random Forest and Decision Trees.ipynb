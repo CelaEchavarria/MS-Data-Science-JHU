{
 "cells": [
  {
   "cell_type": "markdown",
   "metadata": {},
   "source": [
    "## Black Friday Dataset Using Random Forest and Decision Trees\n",
    "(Data Science Fall 2018)"
   ]
  },
  {
   "cell_type": "markdown",
   "metadata": {},
   "source": [
    "A retail company “ABC Private Limited” wants to understand the customer purchase behavior (specifically, purchase amount) against various products of different categories. They have shared purchase summary of various customers for selected high volume products from last month. The data set also contains customer demographics (age, gender, marital status, city_type, stay_in_current_city), product details (product_id and product category) and Total purchase_amount from last month.\n",
    "\n",
    "Now, they want to build a model to predict the purchase amount of customer against various products which will help them to create personalized offer for customers against different products.\n",
    "\n",
    "|Variable   | Definition  |\n",
    "|---|---|---|---|---|\n",
    "|User_ID|User ID|\n",
    "|Product_ID|Product ID|\n",
    "|Gender|Sex of User|\n",
    "|Age|Age in bins|\n",
    "|Occupation|Occupation(Masked)|\n",
    "|City_Category|Category of the City (A,B,C)|\n",
    "|Stay_In_Current_City_Years|Number of years stay in current city|\n",
    "|Marital_Status|Marital Status|\n",
    "|Product_Category_1|Product Category(Masked)|\n",
    "|Product_Category_2|Product may belong to other category also (Masked)|\n",
    "|Product_Category_3|Product may belong to other category also (Masked)|\n",
    "|Purchase|Purchase Amount(Target Variable|"
   ]
  },
  {
   "cell_type": "code",
   "execution_count": 1,
   "metadata": {},
   "outputs": [],
   "source": [
    "import warnings\n",
    "warnings.filterwarnings('ignore')\n",
    "% matplotlib inline\n",
    "import numpy as np\n",
    "import scipy.stats as stats\n",
    "import seaborn as sns\n",
    "import matplotlib.pyplot as plt\n",
    "import pandas as pd\n",
    "import math\n",
    "\n",
    "from sklearn.preprocessing import LabelEncoder\n",
    "from sklearn.model_selection import train_test_split, RepeatedKFold, cross_val_score, learning_curve, validation_curve,RandomizedSearchCV, GridSearchCV\n",
    "from sklearn.ensemble import RandomForestRegressor\n",
    "from sklearn.tree import DecisionTreeRegressor\n",
    "from sklearn.metrics import r2_score,mean_squared_error\n",
    "\n",
    "sns.set(style=\"whitegrid\")\n"
   ]
  },
  {
   "cell_type": "markdown",
   "metadata": {},
   "source": [
    "During Exploratory Data Analysis (EDA), I found that Product_Category_2 and Product_Category_3 had missing values and per the description of the task(see above), they also seemed to be dependent on Product_Category_1. \n",
    "\n",
    "I didn't think it would be a good idea to exclude the observations with missing values since there was still a lot of information that could be gathered from the other variables. Neither did I think filling in the values with the mean, max or zero would be a good idea since it could negatively affect the model. Instead during EDA a feature was created to capture the number of product categories each observation had and which I decided to include in the model.\n",
    "\n",
    "\n",
    "There were other variables that I didn't think would need to be considered in the model since they were either unique identifiers or were being captured by other variables. From EDA I originally decided to omit the following variables for modeling:\n",
    "\n",
    "* User_ID: Personal Identifier\n",
    "* Product_ID: Being captured by Product Categories\n",
    "* Product_Category_2: It had missing values and is being captured by the feature-engineered categories\n",
    "* Product_Category_3: It had missing values and is being captured by the feature-engineered categories\n",
    "\n",
    "\n",
    "After further consideration, I decided to include Product_ID since it showed to improve the model.\n",
    "\n",
    "\n",
    "I initially started with Random Forest since it is stronger modeling technique and uses several decision trees which helps avoid overfitting. After I decided on a final model, I tried using the Decision Tree learning to compare results and check if the computational load that comes with Random Forest is worthy. \n",
    "\n",
    "The final model using Random Forests technique showed: \n",
    "$R^2$ = 0.6874\n",
    "RMSE =  2806.40\n",
    "\n",
    "The final model for Decision Trees technique showed:\n",
    "$R^2$ = 0.6815\n",
    "RMSE =  2832.089620 \n",
    "\n",
    "Note that Age, City_Category and Stay_In_current_City_Years were encoded and in the model they show as:\n",
    "\n",
    "City Categories:\n",
    "* A = 0 \n",
    "* B = 1\n",
    "* c = 2\n",
    "\n",
    "Age:\n",
    "\n",
    "* 55+ 6\n",
    "* 51_55 5\n",
    "* 46_50 4\n",
    "* 36_45 3\n",
    "* 26_35 2\n",
    "* 17-25 1\n",
    "* 0_17 0\n",
    "\n",
    "Gender\n",
    "* F 0\n",
    "* M 1\n",
    "\n",
    "Also, EDA graphs were not helpful on trying to find a relationship or gain insights, so I won't be adding any of this information to this notebook. However, if you are curious you can find them in this same repository under the notebook: Black Friday EDA"
   ]
  },
  {
   "cell_type": "code",
   "execution_count": 2,
   "metadata": {},
   "outputs": [],
   "source": [
    "data=pd.read_csv('blackFriday.csv')"
   ]
  },
  {
   "cell_type": "markdown",
   "metadata": {},
   "source": [
    "The code below is from the new feature created to find the number of categories a product belongs to:"
   ]
  },
  {
   "cell_type": "code",
   "execution_count": 3,
   "metadata": {},
   "outputs": [],
   "source": [
    "def categoryNum(df):\n",
    "    if not math.isnan(df['Product_Category_1']) and not math.isnan(df['Product_Category_2']) and not math.isnan(df['Product_Category_3']):\n",
    "        return 3\n",
    "    elif not math.isnan(df['Product_Category_1']) and not math.isnan(df['Product_Category_2']) and math.isnan(df['Product_Category_3']):\n",
    "        return 2\n",
    "    elif not math.isnan(df['Product_Category_1']) and math.isnan(df['Product_Category_2']) and not math.isnan(df['Product_Category_3']):\n",
    "        return 2\n",
    "    elif not math.isnan(df['Product_Category_1']) and math.isnan(df['Product_Category_2']) and math.isnan(df['Product_Category_3']):\n",
    "        return 1"
   ]
  },
  {
   "cell_type": "code",
   "execution_count": 4,
   "metadata": {},
   "outputs": [
    {
     "data": {
      "text/html": [
       "<div>\n",
       "<style scoped>\n",
       "    .dataframe tbody tr th:only-of-type {\n",
       "        vertical-align: middle;\n",
       "    }\n",
       "\n",
       "    .dataframe tbody tr th {\n",
       "        vertical-align: top;\n",
       "    }\n",
       "\n",
       "    .dataframe thead th {\n",
       "        text-align: right;\n",
       "    }\n",
       "</style>\n",
       "<table border=\"1\" class=\"dataframe\">\n",
       "  <thead>\n",
       "    <tr style=\"text-align: right;\">\n",
       "      <th></th>\n",
       "      <th>User_ID</th>\n",
       "      <th>Product_ID</th>\n",
       "      <th>Gender</th>\n",
       "      <th>Age</th>\n",
       "      <th>Occupation</th>\n",
       "      <th>City_Category</th>\n",
       "      <th>Stay_In_Current_City_Years</th>\n",
       "      <th>Marital_Status</th>\n",
       "      <th>Product_Category_1</th>\n",
       "      <th>Product_Category_2</th>\n",
       "      <th>Product_Category_3</th>\n",
       "      <th>Purchase</th>\n",
       "      <th>categories</th>\n",
       "    </tr>\n",
       "  </thead>\n",
       "  <tbody>\n",
       "    <tr>\n",
       "      <th>0</th>\n",
       "      <td>1000001</td>\n",
       "      <td>P00069042</td>\n",
       "      <td>F</td>\n",
       "      <td>0-17</td>\n",
       "      <td>10</td>\n",
       "      <td>A</td>\n",
       "      <td>2</td>\n",
       "      <td>0</td>\n",
       "      <td>3</td>\n",
       "      <td>NaN</td>\n",
       "      <td>NaN</td>\n",
       "      <td>8370</td>\n",
       "      <td>1</td>\n",
       "    </tr>\n",
       "    <tr>\n",
       "      <th>1</th>\n",
       "      <td>1000001</td>\n",
       "      <td>P00248942</td>\n",
       "      <td>F</td>\n",
       "      <td>0-17</td>\n",
       "      <td>10</td>\n",
       "      <td>A</td>\n",
       "      <td>2</td>\n",
       "      <td>0</td>\n",
       "      <td>1</td>\n",
       "      <td>6.0</td>\n",
       "      <td>14.0</td>\n",
       "      <td>15200</td>\n",
       "      <td>3</td>\n",
       "    </tr>\n",
       "    <tr>\n",
       "      <th>2</th>\n",
       "      <td>1000001</td>\n",
       "      <td>P00087842</td>\n",
       "      <td>F</td>\n",
       "      <td>0-17</td>\n",
       "      <td>10</td>\n",
       "      <td>A</td>\n",
       "      <td>2</td>\n",
       "      <td>0</td>\n",
       "      <td>12</td>\n",
       "      <td>NaN</td>\n",
       "      <td>NaN</td>\n",
       "      <td>1422</td>\n",
       "      <td>1</td>\n",
       "    </tr>\n",
       "    <tr>\n",
       "      <th>3</th>\n",
       "      <td>1000001</td>\n",
       "      <td>P00085442</td>\n",
       "      <td>F</td>\n",
       "      <td>0-17</td>\n",
       "      <td>10</td>\n",
       "      <td>A</td>\n",
       "      <td>2</td>\n",
       "      <td>0</td>\n",
       "      <td>12</td>\n",
       "      <td>14.0</td>\n",
       "      <td>NaN</td>\n",
       "      <td>1057</td>\n",
       "      <td>2</td>\n",
       "    </tr>\n",
       "    <tr>\n",
       "      <th>4</th>\n",
       "      <td>1000002</td>\n",
       "      <td>P00285442</td>\n",
       "      <td>M</td>\n",
       "      <td>55+</td>\n",
       "      <td>16</td>\n",
       "      <td>C</td>\n",
       "      <td>4+</td>\n",
       "      <td>0</td>\n",
       "      <td>8</td>\n",
       "      <td>NaN</td>\n",
       "      <td>NaN</td>\n",
       "      <td>7969</td>\n",
       "      <td>1</td>\n",
       "    </tr>\n",
       "  </tbody>\n",
       "</table>\n",
       "</div>"
      ],
      "text/plain": [
       "   User_ID Product_ID Gender   Age  Occupation City_Category  \\\n",
       "0  1000001  P00069042      F  0-17          10             A   \n",
       "1  1000001  P00248942      F  0-17          10             A   \n",
       "2  1000001  P00087842      F  0-17          10             A   \n",
       "3  1000001  P00085442      F  0-17          10             A   \n",
       "4  1000002  P00285442      M   55+          16             C   \n",
       "\n",
       "  Stay_In_Current_City_Years  Marital_Status  Product_Category_1  \\\n",
       "0                          2               0                   3   \n",
       "1                          2               0                   1   \n",
       "2                          2               0                  12   \n",
       "3                          2               0                  12   \n",
       "4                         4+               0                   8   \n",
       "\n",
       "   Product_Category_2  Product_Category_3  Purchase  categories  \n",
       "0                 NaN                 NaN      8370           1  \n",
       "1                 6.0                14.0     15200           3  \n",
       "2                 NaN                 NaN      1422           1  \n",
       "3                14.0                 NaN      1057           2  \n",
       "4                 NaN                 NaN      7969           1  "
      ]
     },
     "execution_count": 4,
     "metadata": {},
     "output_type": "execute_result"
    }
   ],
   "source": [
    "data[\"categories\"] = data.apply(categoryNum, axis=1)\n",
    "data.head()"
   ]
  },
  {
   "cell_type": "markdown",
   "metadata": {},
   "source": [
    "##### Label encoding"
   ]
  },
  {
   "cell_type": "markdown",
   "metadata": {},
   "source": [
    "I opted for Label Encoding instead of one-hot encoding to have less features "
   ]
  },
  {
   "cell_type": "code",
   "execution_count": 5,
   "metadata": {},
   "outputs": [
    {
     "data": {
      "text/html": [
       "<div>\n",
       "<style scoped>\n",
       "    .dataframe tbody tr th:only-of-type {\n",
       "        vertical-align: middle;\n",
       "    }\n",
       "\n",
       "    .dataframe tbody tr th {\n",
       "        vertical-align: top;\n",
       "    }\n",
       "\n",
       "    .dataframe thead th {\n",
       "        text-align: right;\n",
       "    }\n",
       "</style>\n",
       "<table border=\"1\" class=\"dataframe\">\n",
       "  <thead>\n",
       "    <tr style=\"text-align: right;\">\n",
       "      <th></th>\n",
       "      <th>User_ID</th>\n",
       "      <th>Product_ID</th>\n",
       "      <th>Gender</th>\n",
       "      <th>Age</th>\n",
       "      <th>Occupation</th>\n",
       "      <th>City_Category</th>\n",
       "      <th>Stay_In_Current_City_Years</th>\n",
       "      <th>Marital_Status</th>\n",
       "      <th>Product_Category_1</th>\n",
       "      <th>Product_Category_2</th>\n",
       "      <th>Product_Category_3</th>\n",
       "      <th>Purchase</th>\n",
       "      <th>categories</th>\n",
       "      <th>Gender_Code</th>\n",
       "      <th>Age_Code</th>\n",
       "      <th>City_Code</th>\n",
       "    </tr>\n",
       "  </thead>\n",
       "  <tbody>\n",
       "    <tr>\n",
       "      <th>0</th>\n",
       "      <td>1000001</td>\n",
       "      <td>P00069042</td>\n",
       "      <td>F</td>\n",
       "      <td>0-17</td>\n",
       "      <td>10</td>\n",
       "      <td>A</td>\n",
       "      <td>2</td>\n",
       "      <td>0</td>\n",
       "      <td>3</td>\n",
       "      <td>NaN</td>\n",
       "      <td>NaN</td>\n",
       "      <td>8370</td>\n",
       "      <td>1</td>\n",
       "      <td>0</td>\n",
       "      <td>0</td>\n",
       "      <td>0</td>\n",
       "    </tr>\n",
       "    <tr>\n",
       "      <th>1</th>\n",
       "      <td>1000001</td>\n",
       "      <td>P00248942</td>\n",
       "      <td>F</td>\n",
       "      <td>0-17</td>\n",
       "      <td>10</td>\n",
       "      <td>A</td>\n",
       "      <td>2</td>\n",
       "      <td>0</td>\n",
       "      <td>1</td>\n",
       "      <td>6.0</td>\n",
       "      <td>14.0</td>\n",
       "      <td>15200</td>\n",
       "      <td>3</td>\n",
       "      <td>0</td>\n",
       "      <td>0</td>\n",
       "      <td>0</td>\n",
       "    </tr>\n",
       "    <tr>\n",
       "      <th>2</th>\n",
       "      <td>1000001</td>\n",
       "      <td>P00087842</td>\n",
       "      <td>F</td>\n",
       "      <td>0-17</td>\n",
       "      <td>10</td>\n",
       "      <td>A</td>\n",
       "      <td>2</td>\n",
       "      <td>0</td>\n",
       "      <td>12</td>\n",
       "      <td>NaN</td>\n",
       "      <td>NaN</td>\n",
       "      <td>1422</td>\n",
       "      <td>1</td>\n",
       "      <td>0</td>\n",
       "      <td>0</td>\n",
       "      <td>0</td>\n",
       "    </tr>\n",
       "    <tr>\n",
       "      <th>3</th>\n",
       "      <td>1000001</td>\n",
       "      <td>P00085442</td>\n",
       "      <td>F</td>\n",
       "      <td>0-17</td>\n",
       "      <td>10</td>\n",
       "      <td>A</td>\n",
       "      <td>2</td>\n",
       "      <td>0</td>\n",
       "      <td>12</td>\n",
       "      <td>14.0</td>\n",
       "      <td>NaN</td>\n",
       "      <td>1057</td>\n",
       "      <td>2</td>\n",
       "      <td>0</td>\n",
       "      <td>0</td>\n",
       "      <td>0</td>\n",
       "    </tr>\n",
       "    <tr>\n",
       "      <th>4</th>\n",
       "      <td>1000002</td>\n",
       "      <td>P00285442</td>\n",
       "      <td>M</td>\n",
       "      <td>55+</td>\n",
       "      <td>16</td>\n",
       "      <td>C</td>\n",
       "      <td>4+</td>\n",
       "      <td>0</td>\n",
       "      <td>8</td>\n",
       "      <td>NaN</td>\n",
       "      <td>NaN</td>\n",
       "      <td>7969</td>\n",
       "      <td>1</td>\n",
       "      <td>1</td>\n",
       "      <td>6</td>\n",
       "      <td>2</td>\n",
       "    </tr>\n",
       "  </tbody>\n",
       "</table>\n",
       "</div>"
      ],
      "text/plain": [
       "   User_ID Product_ID Gender   Age  Occupation City_Category  \\\n",
       "0  1000001  P00069042      F  0-17          10             A   \n",
       "1  1000001  P00248942      F  0-17          10             A   \n",
       "2  1000001  P00087842      F  0-17          10             A   \n",
       "3  1000001  P00085442      F  0-17          10             A   \n",
       "4  1000002  P00285442      M   55+          16             C   \n",
       "\n",
       "  Stay_In_Current_City_Years  Marital_Status  Product_Category_1  \\\n",
       "0                          2               0                   3   \n",
       "1                          2               0                   1   \n",
       "2                          2               0                  12   \n",
       "3                          2               0                  12   \n",
       "4                         4+               0                   8   \n",
       "\n",
       "   Product_Category_2  Product_Category_3  Purchase  categories  Gender_Code  \\\n",
       "0                 NaN                 NaN      8370           1            0   \n",
       "1                 6.0                14.0     15200           3            0   \n",
       "2                 NaN                 NaN      1422           1            0   \n",
       "3                14.0                 NaN      1057           2            0   \n",
       "4                 NaN                 NaN      7969           1            1   \n",
       "\n",
       "   Age_Code  City_Code  \n",
       "0         0          0  \n",
       "1         0          0  \n",
       "2         0          0  \n",
       "3         0          0  \n",
       "4         6          2  "
      ]
     },
     "execution_count": 5,
     "metadata": {},
     "output_type": "execute_result"
    }
   ],
   "source": [
    "le = LabelEncoder()\n",
    "data['Gender_Code']=le.fit_transform(data['Gender'])\n",
    "data[\"Age_Code\"]=le.fit_transform(data['Age'])\n",
    "data[\"City_Code\"] = le.fit_transform(data['City_Category'])\n",
    "\n",
    "data.head()"
   ]
  },
  {
   "cell_type": "markdown",
   "metadata": {},
   "source": [
    "Below are the results of the encoding for the different values:\n",
    "\n",
    "City Categories:\n",
    "* A = 0 \n",
    "* B = 1\n",
    "* c = 2\n",
    "\n",
    "Age:\n",
    "\n",
    "* 55+ 6\n",
    "* 51_55 5\n",
    "* 46_50 4\n",
    "* 36_45 3\n",
    "* 26_35 2\n",
    "* 17-25 1\n",
    "* 0_17 0\n",
    "\n",
    "Gender\n",
    "* F 0\n",
    "* M 1"
   ]
  },
  {
   "cell_type": "markdown",
   "metadata": {},
   "source": [
    "For hyperparameters tuning I used RandomizedSearchCV to get an idea what the best parameters should look like and then used validation curves as an attempt to get a more precise approximation of the parameters."
   ]
  },
  {
   "cell_type": "markdown",
   "metadata": {},
   "source": [
    "Setting training and validation sets"
   ]
  },
  {
   "cell_type": "code",
   "execution_count": 6,
   "metadata": {},
   "outputs": [],
   "source": [
    "train, test = train_test_split(data, test_size = 0.2)\n",
    "\n",
    "x_train = train.drop(['User_ID', 'Product_ID', 'Gender', 'Age','City_Category', 'Stay_In_Current_City_Years','Product_Category_2', 'Product_Category_3', 'Purchase'], axis = 1)\n",
    "y_train = train['Purchase']\n",
    "\n",
    "x_test = test.drop(['User_ID', 'Product_ID', 'Gender', 'Age','City_Category', 'Stay_In_Current_City_Years','Product_Category_2', 'Product_Category_3', 'Purchase'], axis = 1)\n",
    "y_test = test['Purchase']"
   ]
  },
  {
   "cell_type": "markdown",
   "metadata": {},
   "source": [
    "#### RandomSearchCV\n",
    "\n",
    "Below are the set of hyperparameters used"
   ]
  },
  {
   "cell_type": "code",
   "execution_count": 7,
   "metadata": {},
   "outputs": [],
   "source": [
    "n_estimators = np.arange(200, 1200, 100)\n",
    "max_features = ['auto', 'log2']\n",
    "max_depth = np.arange(1, 21, 1)\n",
    "min_samples_leaf=np.arange(1, 11, 1)\n",
    "min_samples_split = np.arange(2,11, 1)\n",
    "bootstrap = [True, False]\n",
    "random_grid = {'n_estimators': n_estimators,\n",
    "              'max_features' : max_features,\n",
    "              'max_depth' : max_depth,\n",
    "              'min_samples_leaf' : min_samples_leaf,\n",
    "              'min_samples_split' : min_samples_split,\n",
    "              'bootstrap' : bootstrap}"
   ]
  },
  {
   "cell_type": "code",
   "execution_count": 8,
   "metadata": {},
   "outputs": [],
   "source": [
    "#The following code was used to get the results from RandomSearchCV, remove hash character to run:\n",
    "\n",
    "#rf = RandomForestRegressor()\n",
    "#rf_random = RandomizedSearchCV(estimator = rf, param_distributions = random_grid, n_iter = 10, cv = 5, verbose = 2, random_state = 48, n_jobs = -1)\n",
    "#rf_random.fit(x_train, y_train)"
   ]
  },
  {
   "cell_type": "code",
   "execution_count": 9,
   "metadata": {},
   "outputs": [],
   "source": [
    "#rf_random.best_params_"
   ]
  },
  {
   "cell_type": "markdown",
   "metadata": {},
   "source": [
    "RandomSearchCV is computational heavy so I only run it once and here are the results when calling rf_random.best_params:\n",
    "\n",
    "{'n_estimators': 600,\n",
    " 'min_samples_split': 9,\n",
    " 'min_samples_leaf': 7,\n",
    " 'max_features': 'auto',\n",
    " 'max_depth': 15,\n",
    " 'bootstrap': True}"
   ]
  },
  {
   "cell_type": "markdown",
   "metadata": {},
   "source": [
    "I created a base model and compared it to the results from RandomSearchCV and this is what I got"
   ]
  },
  {
   "cell_type": "code",
   "execution_count": 10,
   "metadata": {},
   "outputs": [],
   "source": [
    "#n_estimators = default, max depth -> reccomend=15\n",
    "base_model = RandomForestRegressor(max_depth = 15, random_state = 48)\n",
    "base_model.fit(x_train, y_train)\n",
    "y_pred_test_base = base_model.predict(x_test)"
   ]
  },
  {
   "cell_type": "code",
   "execution_count": 11,
   "metadata": {},
   "outputs": [],
   "source": [
    "best_random = RandomForestRegressor(n_estimators = 600, min_samples_split = 9, min_samples_leaf = 7,\n",
    "                                    max_features = 'auto', max_depth =15, bootstrap = True, random_state = 48)\n",
    "best_random.fit(x_train, y_train)\n",
    "y_pred_test_best = best_random.predict(x_test)"
   ]
  },
  {
   "cell_type": "code",
   "execution_count": 12,
   "metadata": {},
   "outputs": [
    {
     "name": "stdout",
     "output_type": "stream",
     "text": [
      "The test r_squared for base model: 0.6505\n",
      "The test mse for base model: 2984.84\n",
      "The test r_squared for best model: 0.6536\n",
      "The test mse for best model: 2971.48\n"
     ]
    }
   ],
   "source": [
    "print(\"The test r_squared for base model: {:.4f}\".format(np.mean(r2_score(y_test, y_pred_test_base))))\n",
    "print(\"The test mse for base model: {:.2f}\".format(np.mean(np.sqrt(mean_squared_error(y_test, y_pred_test_base)))))\n",
    "print(\"The test r_squared for best model: {:.4f}\".format(np.mean(r2_score(y_test, y_pred_test_best))))\n",
    "print(\"The test mse for best model: {:.2f}\".format(np.mean(np.sqrt(mean_squared_error(y_test, y_pred_test_best)))))"
   ]
  },
  {
   "cell_type": "markdown",
   "metadata": {},
   "source": [
    "I am not convinced that the result from RandomSearchCV is the best model. The model from RandomSearchCV does give me slightly better results but still very close to a base model.  I'll explore other values for the hyperparameters through validation curves."
   ]
  },
  {
   "cell_type": "markdown",
   "metadata": {},
   "source": [
    "### Validation Curves"
   ]
  },
  {
   "cell_type": "markdown",
   "metadata": {},
   "source": [
    "Starting with max_depth, I'll look at the similar values 1-20"
   ]
  },
  {
   "cell_type": "code",
   "execution_count": 13,
   "metadata": {},
   "outputs": [],
   "source": [
    "X=data.drop(['User_ID', 'Product_ID', 'Gender', 'Age','City_Category', 'Stay_In_Current_City_Years','Product_Category_2', 'Product_Category_3', 'Purchase'], axis = 1)\n",
    "Y = data[\"Purchase\"]"
   ]
  },
  {
   "cell_type": "code",
   "execution_count": 14,
   "metadata": {},
   "outputs": [],
   "source": [
    "xs = np.arange(1,21, 2)\n",
    "train_scores, validation_scores = validation_curve(RandomForestRegressor(), X = X, y = Y, \n",
    "                                                            param_name= 'max_depth',param_range = xs, cv = 5, scoring = \"r2\")"
   ]
  },
  {
   "cell_type": "code",
   "execution_count": 15,
   "metadata": {},
   "outputs": [],
   "source": [
    "def means_vc(train_scores, validation_scores):\n",
    "    \n",
    "    train_mean = abs(train_scores.mean(axis =1))\n",
    "    train_upper = abs(train_scores.mean(axis =1) +2 *train_scores.std(axis=1))\n",
    "    train_lower = abs(train_scores.mean(axis =1) -2 *train_scores.std(axis=1))\n",
    "\n",
    "    validation_mean = abs(validation_scores.mean(axis =1))\n",
    "    validation_upper = abs(validation_scores.mean(axis =1) +2 *train_scores.std(axis=1))\n",
    "    validation_lower = abs(validation_scores.mean(axis =1) -2 *train_scores.std(axis=1))\n",
    "    \n",
    "    return train_mean, train_upper, train_lower, validation_mean, validation_upper, validation_lower"
   ]
  },
  {
   "cell_type": "code",
   "execution_count": 16,
   "metadata": {},
   "outputs": [],
   "source": [
    "means = means_vc(train_scores, validation_scores)"
   ]
  },
  {
   "cell_type": "code",
   "execution_count": 17,
   "metadata": {
    "scrolled": false
   },
   "outputs": [
    {
     "data": {
      "image/png": "[encoded data removed]",
      "text/plain": [
       "<Figure size 720x432 with 1 Axes>"
      ]
     },
     "metadata": {
      "needs_background": "light"
     },
     "output_type": "display_data"
    }
   ],
   "source": [
    "figure = plt.figure(figsize=(10,6))\n",
    "\n",
    "axes = figure.add_subplot(1, 1, 1)\n",
    "axes.plot(xs, means[0], label = 'train')\n",
    "axes.fill_between(xs, means[1], means[2], color='#9a5ea1', alpha = 0.25, label='train')\n",
    "axes.plot(xs, means[3], label = 'validation')\n",
    "axes.fill_between(xs, means[4], means[5], color='#98823c', alpha = 0.25, label='test')\n",
    "axes.set_title('Random Forest Validation Curves for maximum depth of tree', fontsize = 16)\n",
    "axes.legend(['Train Set','Test Set'])\n",
    "axes.set_xlabel('Maximum depth', fontsize = 12)\n",
    "axes.set_ylabel('$R^2$', fontsize = 12)\n",
    "axes.set\n",
    "\n",
    "plt.show()"
   ]
  },
  {
   "cell_type": "markdown",
   "metadata": {},
   "source": [
    "Around a Maximum depth of 7, the model seems to fit the data almost perfectly and then it start overfitting. In this case the max_depth of 15 as suggested seems to be a good compromise between bias and variance. I'll keep the max_depth at 15. "
   ]
  },
  {
   "cell_type": "markdown",
   "metadata": {},
   "source": [
    "Since n_estimators(number of of trees in the forest) = 10, gave me a similar result compared to recommended model, I'll try validation curves with values between 50-100 and see what I can learn. I know that the default value is 10 and entries for RandomSearchCV were greater than this. I know that the larger the number of trees the more opportunity for the model to learn the data but it also gets more computationally heavy, so let's try values between 20-100 "
   ]
  },
  {
   "cell_type": "code",
   "execution_count": 18,
   "metadata": {},
   "outputs": [],
   "source": [
    "xs = np.arange(20,100, 20)\n",
    "train_scores, validation_scores = validation_curve(RandomForestRegressor(max_depth = 15), X = X, y = Y, \n",
    "                                                            param_name= 'n_estimators',param_range = xs, cv = 5, scoring = \"r2\")"
   ]
  },
  {
   "cell_type": "code",
   "execution_count": 19,
   "metadata": {},
   "outputs": [],
   "source": [
    "means = means_vc(train_scores, validation_scores)"
   ]
  },
  {
   "cell_type": "code",
   "execution_count": 20,
   "metadata": {},
   "outputs": [
    {
     "data": {
      "image/png": "[encoded data removed]",
      "text/plain": [
       "<Figure size 720x432 with 1 Axes>"
      ]
     },
     "metadata": {
      "needs_background": "light"
     },
     "output_type": "display_data"
    }
   ],
   "source": [
    "figure = plt.figure(figsize=(14,8))\n",
    "\n",
    "axes = figure.add_subplot(1, 1, 1)\n",
    "axes.plot(xs, means[0], label = 'train')\n",
    "axes.fill_between(xs, means[1], means[2], color='#9a5ea1', alpha = 0.25, label='train')\n",
    "axes.plot(xs, means[3], label = 'validation')\n",
    "axes.fill_between(xs, means[4], means[5], color='#98823c', alpha = 0.25, label='test')\n",
    "axes.set_title('Random Forest Validation Curves for Number of Trees', fontsize = 16)\n",
    "axes.legend(['Train Set','Test Set'])\n",
    "axes.set_xlabel('Number of Trees', fontsize = 12)\n",
    "axes.set_ylabel('$R^2$', fontsize = 12)\n",
    "axes.set\n",
    "\n",
    "plt.show()"
   ]
  },
  {
   "cell_type": "markdown",
   "metadata": {},
   "source": [
    "Doesn't look like it would make much of a difference trying to tune this hyperparameter. So, I am going to leave it at the default which is 10, mainly because it is computationally heavy to have high values for n_estimators. A higher value could be beneficial but I don't have the infrastructure to run this amount.  "
   ]
  },
  {
   "cell_type": "markdown",
   "metadata": {},
   "source": [
    "Let's try validation curve for min_samples leaf, since the random search yielded 7, let's try higher values"
   ]
  },
  {
   "cell_type": "code",
   "execution_count": 21,
   "metadata": {},
   "outputs": [],
   "source": [
    "## min_samples_leaf\n",
    "xs = np.arange(10,30, 5)\n",
    "train_scores, validation_scores = validation_curve(RandomForestRegressor(max_depth = 15), \n",
    "                                                X = X, y = Y, param_name= 'min_samples_leaf',param_range = xs, \n",
    "                                                cv = 5, scoring = \"r2\")\n"
   ]
  },
  {
   "cell_type": "code",
   "execution_count": 22,
   "metadata": {},
   "outputs": [],
   "source": [
    "means = means_vc(train_scores, validation_scores)"
   ]
  },
  {
   "cell_type": "code",
   "execution_count": 23,
   "metadata": {},
   "outputs": [
    {
     "data": {
      "image/png": "[encoded data removed]",
      "text/plain": [
       "<Figure size 1008x576 with 1 Axes>"
      ]
     },
     "metadata": {
      "needs_background": "light"
     },
     "output_type": "display_data"
    }
   ],
   "source": [
    "figure = plt.figure(figsize=(14,8))\n",
    "\n",
    "axes = figure.add_subplot(1, 1, 1)\n",
    "axes.plot(xs, means[0], label = 'train')\n",
    "axes.fill_between(xs, means[1], means[2], color='#9a5ea1', alpha = 0.25, label='train')\n",
    "axes.plot(xs, means[3], label = 'validation')\n",
    "axes.fill_between(xs, means[4], means[5], color='#98823c', alpha = 0.25, label='test')\n",
    "axes.set_title('Validation Curves for Minimum Samples at a Leaf', fontsize = 16)\n",
    "axes.legend(['Train Set','Test Set'])\n",
    "axes.set_xlabel('Minimum Samples at Leaf', fontsize = 12)\n",
    "axes.set_ylabel('$R^2$', fontsize =12)\n",
    "axes.set\n",
    "\n",
    "plt.show()"
   ]
  },
  {
   "cell_type": "markdown",
   "metadata": {},
   "source": [
    "This is not very helpful. I'll try percentages of the data to get an idea when the model starts overfitting or underfitting. "
   ]
  },
  {
   "cell_type": "code",
   "execution_count": 24,
   "metadata": {},
   "outputs": [],
   "source": [
    "## min_samples_leaf\n",
    "xs = np.linspace(0.01, 0.50, 10, endpoint=True)\n",
    "train_scores, validation_scores = validation_curve(RandomForestRegressor(max_depth = 15), X = X, y = Y, \n",
    "                                                              param_name= 'min_samples_leaf',param_range = xs, cv = 5, scoring = \"r2\")\n"
   ]
  },
  {
   "cell_type": "code",
   "execution_count": 25,
   "metadata": {},
   "outputs": [],
   "source": [
    "means = means_vc(train_scores, validation_scores)"
   ]
  },
  {
   "cell_type": "code",
   "execution_count": 26,
   "metadata": {},
   "outputs": [
    {
     "data": {
      "image/png": "[encoded data removed]",
      "text/plain": [
       "<Figure size 1008x576 with 1 Axes>"
      ]
     },
     "metadata": {
      "needs_background": "light"
     },
     "output_type": "display_data"
    }
   ],
   "source": [
    "figure = plt.figure(figsize=(14,8))\n",
    "\n",
    "axes = figure.add_subplot(1, 1, 1)\n",
    "axes.plot(xs, means[0], label = 'train')\n",
    "axes.fill_between(xs, means[1], means[2], color='#9a5ea1', alpha = 0.25, label='train')\n",
    "axes.plot(xs, means[3], label = 'validation')\n",
    "axes.fill_between(xs, means[4], means[5], color='#98823c', alpha = 0.25, label='test')\n",
    "axes.set_title('Validation Curves for Minimum Samples at a Leaf', fontsize = 16)\n",
    "axes.legend(['Train Set','Test Set'])\n",
    "axes.set_xlabel('Minimum Samples at Leaf', fontsize = 12)\n",
    "axes.set_ylabel('$R^2$', fontsize = 12)\n",
    "axes.set\n",
    "\n",
    "plt.show()"
   ]
  },
  {
   "cell_type": "markdown",
   "metadata": {},
   "source": [
    "The larger the minimum number of samples to be a leaf node, the worst the model performs and it starts underfitting. Let's try larger values for validation curves and max it to 1000"
   ]
  },
  {
   "cell_type": "code",
   "execution_count": 27,
   "metadata": {},
   "outputs": [],
   "source": [
    "## min_samples_leaf\n",
    "xs = np.arange(1, 1100, 100)\n",
    "train_scores, validation_scores = validation_curve(RandomForestRegressor(max_depth = 15), X = X, y = Y, \n",
    "                                                              param_name= 'min_samples_leaf',param_range = xs, cv = 5, scoring = \"r2\")\n"
   ]
  },
  {
   "cell_type": "code",
   "execution_count": 28,
   "metadata": {},
   "outputs": [],
   "source": [
    "means = means_vc(train_scores, validation_scores)"
   ]
  },
  {
   "cell_type": "code",
   "execution_count": 29,
   "metadata": {},
   "outputs": [
    {
     "data": {
      "image/png": "[encoded data removed]",
      "text/plain": [
       "<Figure size 1008x576 with 1 Axes>"
      ]
     },
     "metadata": {
      "needs_background": "light"
     },
     "output_type": "display_data"
    }
   ],
   "source": [
    "figure = plt.figure(figsize=(14,8))\n",
    "\n",
    "axes = figure.add_subplot(1, 1, 1)\n",
    "axes.plot(xs, means[0], label = 'train')\n",
    "axes.fill_between(xs, means[1], means[2], color='#9a5ea1', alpha = 0.25, label='train')\n",
    "axes.plot(xs, means[3], label = 'validation')\n",
    "axes.fill_between(xs, means[4], means[5], color='#98823c', alpha = 0.25, label='test')\n",
    "axes.set_title('Validation Curves for Minimum Samples at a Leaf', fontsize = 16)\n",
    "axes.legend(['Train Set','Test Set'])\n",
    "axes.set_xlabel('Minimum Samples at Leaf', fontsize = 12)\n",
    "axes.set_ylabel('$R^2$', fontsize =12)\n",
    "axes.set\n",
    "\n",
    "plt.show()"
   ]
  },
  {
   "cell_type": "markdown",
   "metadata": {},
   "source": [
    "From this range of values, it looks like a good compromise in bias and variance would be around 400 even though $R^2$ would be lower. Too small of a value could lead to unprunned trees so I'll go with 400 from now on. "
   ]
  },
  {
   "cell_type": "markdown",
   "metadata": {},
   "source": [
    "#### Final hyperparameters \n",
    "\n",
    "* Number of trees (n_estimators) = default (10)\n",
    "* Maximum number of features (max_features) = auto\n",
    "* Maximum depth(max_depth)= 15\n",
    "* Minimum samples at leaf (min_samples_leaf) = 400\n",
    "\n",
    "I am also limiting the fold to 3 and repeating 3 times since anything larger is computational heavy"
   ]
  },
  {
   "cell_type": "code",
   "execution_count": 30,
   "metadata": {},
   "outputs": [],
   "source": [
    "cv = RepeatedKFold(n_splits = 3, n_repeats=3, random_state=35)\n",
    "rf = RandomForestRegressor( min_samples_leaf = 400, max_features = 'auto', max_depth = 15, bootstrap =True)\n",
    "r2_cv = cross_val_score(rf, x_train, y_train, cv=cv, scoring = 'r2')"
   ]
  },
  {
   "cell_type": "code",
   "execution_count": 31,
   "metadata": {},
   "outputs": [
    {
     "data": {
      "text/plain": [
       "RandomForestRegressor(bootstrap=True, criterion='mse', max_depth=15,\n",
       "           max_features='auto', max_leaf_nodes=None,\n",
       "           min_impurity_decrease=0.0, min_impurity_split=None,\n",
       "           min_samples_leaf=400, min_samples_split=2,\n",
       "           min_weight_fraction_leaf=0.0, n_estimators=10, n_jobs=None,\n",
       "           oob_score=False, random_state=None, verbose=0, warm_start=False)"
      ]
     },
     "execution_count": 31,
     "metadata": {},
     "output_type": "execute_result"
    }
   ],
   "source": [
    "rf.fit(x_train, y_train)"
   ]
  },
  {
   "cell_type": "code",
   "execution_count": 32,
   "metadata": {},
   "outputs": [],
   "source": [
    "y_pred_train = rf.predict(x_train)\n",
    "y_pred_test = rf.predict(x_test)"
   ]
  },
  {
   "cell_type": "code",
   "execution_count": 34,
   "metadata": {},
   "outputs": [
    {
     "name": "stdout",
     "output_type": "stream",
     "text": [
      "The train r_squared:0.6433\n",
      "The test r_squared:0.6458\n",
      "The CV r_squared:0.6411\n",
      "The test RMSE:3005.00\n"
     ]
    }
   ],
   "source": [
    "print('The train r_squared:{:.4f}'.format(np.mean(r2_score(y_train, y_pred_train))))\n",
    "print('The test r_squared:{:.4f}'.format(np.mean(r2_score(y_test, y_pred_test))))\n",
    "print('The CV r_squared:{:.4f}'.format(r2_cv.mean()))\n",
    "print('The test RMSE:{:.2f}'.format(np.mean(np.sqrt(mean_squared_error(y_test, y_pred_test)))))"
   ]
  },
  {
   "cell_type": "markdown",
   "metadata": {},
   "source": [
    "The result using 3 repetitions and 3 folds shows improvement on the $R^2$ even though it was a small set of folds and repetitions. \n",
    "\n",
    "However, I also see that these values are lower than our base model. "
   ]
  },
  {
   "cell_type": "code",
   "execution_count": 35,
   "metadata": {},
   "outputs": [
    {
     "name": "stdout",
     "output_type": "stream",
     "text": [
      "The test r_squared for base model: 0.6505\n",
      "The test mse for base model: 2984.84\n"
     ]
    }
   ],
   "source": [
    "print(\"The test r_squared for base model: {:.4f}\".format(np.mean(r2_score(y_test, y_pred_test_base))))\n",
    "print(\"The test mse for base model: {:.2f}\".format(np.mean(np.sqrt(mean_squared_error(y_test, y_pred_test_base)))))"
   ]
  },
  {
   "cell_type": "markdown",
   "metadata": {},
   "source": [
    "Lets look at the crossvalidation mean results of base model"
   ]
  },
  {
   "cell_type": "code",
   "execution_count": 36,
   "metadata": {},
   "outputs": [],
   "source": [
    "r2_cv_base = cross_val_score(base_model, x_train, y_train, cv=cv, scoring = 'r2')"
   ]
  },
  {
   "cell_type": "code",
   "execution_count": 37,
   "metadata": {},
   "outputs": [
    {
     "name": "stdout",
     "output_type": "stream",
     "text": [
      "The CV r_squared of base model:0.6453\n"
     ]
    }
   ],
   "source": [
    "print('The CV r_squared of base model:{:.4f}'.format(r2_cv_base.mean()))"
   ]
  },
  {
   "cell_type": "markdown",
   "metadata": {},
   "source": [
    "That result is interesting. It is lower than the Cross Validation mean of the final hyperparameters. \n",
    "In this case, I'll continue with the final hyperparameters found through validation curves.\n",
    "\n",
    "Let's look at the feature importance for final model so far"
   ]
  },
  {
   "cell_type": "code",
   "execution_count": 38,
   "metadata": {},
   "outputs": [
    {
     "data": {
      "text/html": [
       "<div>\n",
       "<style scoped>\n",
       "    .dataframe tbody tr th:only-of-type {\n",
       "        vertical-align: middle;\n",
       "    }\n",
       "\n",
       "    .dataframe tbody tr th {\n",
       "        vertical-align: top;\n",
       "    }\n",
       "\n",
       "    .dataframe thead th {\n",
       "        text-align: right;\n",
       "    }\n",
       "</style>\n",
       "<table border=\"1\" class=\"dataframe\">\n",
       "  <thead>\n",
       "    <tr style=\"text-align: right;\">\n",
       "      <th></th>\n",
       "      <th>importance</th>\n",
       "    </tr>\n",
       "  </thead>\n",
       "  <tbody>\n",
       "    <tr>\n",
       "      <th>Product_Category_1</th>\n",
       "      <td>0.986690</td>\n",
       "    </tr>\n",
       "    <tr>\n",
       "      <th>City_Code</th>\n",
       "      <td>0.005303</td>\n",
       "    </tr>\n",
       "    <tr>\n",
       "      <th>Occupation</th>\n",
       "      <td>0.003301</td>\n",
       "    </tr>\n",
       "    <tr>\n",
       "      <th>Age_Code</th>\n",
       "      <td>0.002119</td>\n",
       "    </tr>\n",
       "    <tr>\n",
       "      <th>categories</th>\n",
       "      <td>0.001368</td>\n",
       "    </tr>\n",
       "    <tr>\n",
       "      <th>Marital_Status</th>\n",
       "      <td>0.000777</td>\n",
       "    </tr>\n",
       "    <tr>\n",
       "      <th>Gender_Code</th>\n",
       "      <td>0.000443</td>\n",
       "    </tr>\n",
       "  </tbody>\n",
       "</table>\n",
       "</div>"
      ],
      "text/plain": [
       "                    importance\n",
       "Product_Category_1    0.986690\n",
       "City_Code             0.005303\n",
       "Occupation            0.003301\n",
       "Age_Code              0.002119\n",
       "categories            0.001368\n",
       "Marital_Status        0.000777\n",
       "Gender_Code           0.000443"
      ]
     },
     "execution_count": 38,
     "metadata": {},
     "output_type": "execute_result"
    }
   ],
   "source": [
    "feature_importances = pd.DataFrame(rf.feature_importances_, index = X.columns, \n",
    "                                   columns=['importance']).sort_values('importance', ascending=False)\n",
    "feature_importances"
   ]
  },
  {
   "cell_type": "markdown",
   "metadata": {},
   "source": [
    "Product Category_1 is the most important, which I expected. I am surprised to see that categories doesn't have larger weight.\n",
    "\n",
    "I still have Product_ID and User_ID to add. I'll add Product_ID to the model since it seems to be most relevant \n",
    "\n",
    "Since Product_ID has a P in front the of value, I need to remove this first."
   ]
  },
  {
   "cell_type": "code",
   "execution_count": 39,
   "metadata": {},
   "outputs": [
    {
     "data": {
      "text/html": [
       "<div>\n",
       "<style scoped>\n",
       "    .dataframe tbody tr th:only-of-type {\n",
       "        vertical-align: middle;\n",
       "    }\n",
       "\n",
       "    .dataframe tbody tr th {\n",
       "        vertical-align: top;\n",
       "    }\n",
       "\n",
       "    .dataframe thead th {\n",
       "        text-align: right;\n",
       "    }\n",
       "</style>\n",
       "<table border=\"1\" class=\"dataframe\">\n",
       "  <thead>\n",
       "    <tr style=\"text-align: right;\">\n",
       "      <th></th>\n",
       "      <th>User_ID</th>\n",
       "      <th>Product_ID</th>\n",
       "      <th>Gender</th>\n",
       "      <th>Age</th>\n",
       "      <th>Occupation</th>\n",
       "      <th>City_Category</th>\n",
       "      <th>Stay_In_Current_City_Years</th>\n",
       "      <th>Marital_Status</th>\n",
       "      <th>Product_Category_1</th>\n",
       "      <th>Product_Category_2</th>\n",
       "      <th>Product_Category_3</th>\n",
       "      <th>Purchase</th>\n",
       "      <th>categories</th>\n",
       "      <th>Gender_Code</th>\n",
       "      <th>Age_Code</th>\n",
       "      <th>City_Code</th>\n",
       "    </tr>\n",
       "  </thead>\n",
       "  <tbody>\n",
       "    <tr>\n",
       "      <th>0</th>\n",
       "      <td>1000001</td>\n",
       "      <td>00069042</td>\n",
       "      <td>F</td>\n",
       "      <td>0-17</td>\n",
       "      <td>10</td>\n",
       "      <td>A</td>\n",
       "      <td>2</td>\n",
       "      <td>0</td>\n",
       "      <td>3</td>\n",
       "      <td>NaN</td>\n",
       "      <td>NaN</td>\n",
       "      <td>8370</td>\n",
       "      <td>1</td>\n",
       "      <td>0</td>\n",
       "      <td>0</td>\n",
       "      <td>0</td>\n",
       "    </tr>\n",
       "    <tr>\n",
       "      <th>1</th>\n",
       "      <td>1000001</td>\n",
       "      <td>00248942</td>\n",
       "      <td>F</td>\n",
       "      <td>0-17</td>\n",
       "      <td>10</td>\n",
       "      <td>A</td>\n",
       "      <td>2</td>\n",
       "      <td>0</td>\n",
       "      <td>1</td>\n",
       "      <td>6.0</td>\n",
       "      <td>14.0</td>\n",
       "      <td>15200</td>\n",
       "      <td>3</td>\n",
       "      <td>0</td>\n",
       "      <td>0</td>\n",
       "      <td>0</td>\n",
       "    </tr>\n",
       "    <tr>\n",
       "      <th>2</th>\n",
       "      <td>1000001</td>\n",
       "      <td>00087842</td>\n",
       "      <td>F</td>\n",
       "      <td>0-17</td>\n",
       "      <td>10</td>\n",
       "      <td>A</td>\n",
       "      <td>2</td>\n",
       "      <td>0</td>\n",
       "      <td>12</td>\n",
       "      <td>NaN</td>\n",
       "      <td>NaN</td>\n",
       "      <td>1422</td>\n",
       "      <td>1</td>\n",
       "      <td>0</td>\n",
       "      <td>0</td>\n",
       "      <td>0</td>\n",
       "    </tr>\n",
       "    <tr>\n",
       "      <th>3</th>\n",
       "      <td>1000001</td>\n",
       "      <td>00085442</td>\n",
       "      <td>F</td>\n",
       "      <td>0-17</td>\n",
       "      <td>10</td>\n",
       "      <td>A</td>\n",
       "      <td>2</td>\n",
       "      <td>0</td>\n",
       "      <td>12</td>\n",
       "      <td>14.0</td>\n",
       "      <td>NaN</td>\n",
       "      <td>1057</td>\n",
       "      <td>2</td>\n",
       "      <td>0</td>\n",
       "      <td>0</td>\n",
       "      <td>0</td>\n",
       "    </tr>\n",
       "    <tr>\n",
       "      <th>4</th>\n",
       "      <td>1000002</td>\n",
       "      <td>00285442</td>\n",
       "      <td>M</td>\n",
       "      <td>55+</td>\n",
       "      <td>16</td>\n",
       "      <td>C</td>\n",
       "      <td>4+</td>\n",
       "      <td>0</td>\n",
       "      <td>8</td>\n",
       "      <td>NaN</td>\n",
       "      <td>NaN</td>\n",
       "      <td>7969</td>\n",
       "      <td>1</td>\n",
       "      <td>1</td>\n",
       "      <td>6</td>\n",
       "      <td>2</td>\n",
       "    </tr>\n",
       "  </tbody>\n",
       "</table>\n",
       "</div>"
      ],
      "text/plain": [
       "   User_ID Product_ID Gender   Age  Occupation City_Category  \\\n",
       "0  1000001   00069042      F  0-17          10             A   \n",
       "1  1000001   00248942      F  0-17          10             A   \n",
       "2  1000001   00087842      F  0-17          10             A   \n",
       "3  1000001   00085442      F  0-17          10             A   \n",
       "4  1000002   00285442      M   55+          16             C   \n",
       "\n",
       "  Stay_In_Current_City_Years  Marital_Status  Product_Category_1  \\\n",
       "0                          2               0                   3   \n",
       "1                          2               0                   1   \n",
       "2                          2               0                  12   \n",
       "3                          2               0                  12   \n",
       "4                         4+               0                   8   \n",
       "\n",
       "   Product_Category_2  Product_Category_3  Purchase  categories  Gender_Code  \\\n",
       "0                 NaN                 NaN      8370           1            0   \n",
       "1                 6.0                14.0     15200           3            0   \n",
       "2                 NaN                 NaN      1422           1            0   \n",
       "3                14.0                 NaN      1057           2            0   \n",
       "4                 NaN                 NaN      7969           1            1   \n",
       "\n",
       "   Age_Code  City_Code  \n",
       "0         0          0  \n",
       "1         0          0  \n",
       "2         0          0  \n",
       "3         0          0  \n",
       "4         6          2  "
      ]
     },
     "execution_count": 39,
     "metadata": {},
     "output_type": "execute_result"
    }
   ],
   "source": [
    "data[\"Product_ID\"] = data[\"Product_ID\"].astype(str)\n",
    "data[\"Product_ID\"] = data[\"Product_ID\"].map(lambda x: x.lstrip(\"P\"))\n",
    "\n",
    "data.head()"
   ]
  },
  {
   "cell_type": "markdown",
   "metadata": {},
   "source": [
    "That looks good. "
   ]
  },
  {
   "cell_type": "markdown",
   "metadata": {},
   "source": [
    "##### Adding Product ID"
   ]
  },
  {
   "cell_type": "code",
   "execution_count": 40,
   "metadata": {},
   "outputs": [],
   "source": [
    "train, test = train_test_split(data, test_size = 0.2)\n",
    "\n",
    "x_train = train.drop(['User_ID', 'Gender', 'Age','City_Category', 'Stay_In_Current_City_Years','Product_Category_2', 'Product_Category_3', 'Purchase'], axis = 1)\n",
    "y_train = train['Purchase']\n",
    "\n",
    "x_test = test.drop(['User_ID', 'Gender', 'Age','City_Category', 'Stay_In_Current_City_Years','Product_Category_2', 'Product_Category_3', 'Purchase'], axis = 1)\n",
    "y_test = test['Purchase']"
   ]
  },
  {
   "cell_type": "code",
   "execution_count": 41,
   "metadata": {},
   "outputs": [],
   "source": [
    "cv = RepeatedKFold(n_splits = 3, n_repeats=3, random_state=56)\n",
    "rf2 = RandomForestRegressor( min_samples_leaf = 400, max_depth = 15)\n",
    "r2_cv2 = cross_val_score(rf2, x_train, y_train, cv=cv, scoring = 'r2')"
   ]
  },
  {
   "cell_type": "code",
   "execution_count": 42,
   "metadata": {},
   "outputs": [
    {
     "data": {
      "text/plain": [
       "RandomForestRegressor(bootstrap=True, criterion='mse', max_depth=15,\n",
       "           max_features='auto', max_leaf_nodes=None,\n",
       "           min_impurity_decrease=0.0, min_impurity_split=None,\n",
       "           min_samples_leaf=400, min_samples_split=2,\n",
       "           min_weight_fraction_leaf=0.0, n_estimators=10, n_jobs=None,\n",
       "           oob_score=False, random_state=None, verbose=0, warm_start=False)"
      ]
     },
     "execution_count": 42,
     "metadata": {},
     "output_type": "execute_result"
    }
   ],
   "source": [
    "rf2.fit(x_train, y_train)"
   ]
  },
  {
   "cell_type": "code",
   "execution_count": 43,
   "metadata": {},
   "outputs": [],
   "source": [
    "y_pred_train2 = rf2.predict(x_train)\n",
    "y_pred_test2 = rf2.predict(x_test)"
   ]
  },
  {
   "cell_type": "code",
   "execution_count": 44,
   "metadata": {},
   "outputs": [
    {
     "name": "stdout",
     "output_type": "stream",
     "text": [
      "The train r_squared for the second model:0.6893\n",
      "The test r_squared for the second model:0.6874\n",
      "The CV r_squared for the second model:0.6796\n",
      "The test RMSE for the second model: 2806.40\n"
     ]
    }
   ],
   "source": [
    "print('The train r_squared for the second model:{:.4f}'.format(np.mean(r2_score(y_train, y_pred_train2))))\n",
    "print('The test r_squared for the second model:{:.4f}'.format(np.mean(r2_score(y_test, y_pred_test2))))\n",
    "print('The CV r_squared for the second model:{:.4f}'.format(r2_cv2.mean()))\n",
    "print(\"The test RMSE for the second model: {:.2f}\".format(np.mean(np.sqrt(mean_squared_error(y_test, y_pred_test2)))))"
   ]
  },
  {
   "cell_type": "markdown",
   "metadata": {},
   "source": [
    "This is great improvement from the first model:\n",
    "\n",
    "* The train r_squared:0.6433\n",
    "* The test r_squared:0.6458\n",
    "* The CV r_squared:0.6411\n",
    "* The test RMSE:3005.00\n",
    "\n",
    "The Product_ID feature stays in. As for the importance of features:"
   ]
  },
  {
   "cell_type": "code",
   "execution_count": 45,
   "metadata": {},
   "outputs": [
    {
     "data": {
      "text/html": [
       "<div>\n",
       "<style scoped>\n",
       "    .dataframe tbody tr th:only-of-type {\n",
       "        vertical-align: middle;\n",
       "    }\n",
       "\n",
       "    .dataframe tbody tr th {\n",
       "        vertical-align: top;\n",
       "    }\n",
       "\n",
       "    .dataframe thead th {\n",
       "        text-align: right;\n",
       "    }\n",
       "</style>\n",
       "<table border=\"1\" class=\"dataframe\">\n",
       "  <thead>\n",
       "    <tr style=\"text-align: right;\">\n",
       "      <th></th>\n",
       "      <th>importance</th>\n",
       "    </tr>\n",
       "  </thead>\n",
       "  <tbody>\n",
       "    <tr>\n",
       "      <th>Product_Category_1</th>\n",
       "      <td>0.925568</td>\n",
       "    </tr>\n",
       "    <tr>\n",
       "      <th>Product_ID</th>\n",
       "      <td>0.066958</td>\n",
       "    </tr>\n",
       "    <tr>\n",
       "      <th>categories</th>\n",
       "      <td>0.003295</td>\n",
       "    </tr>\n",
       "    <tr>\n",
       "      <th>City_Code</th>\n",
       "      <td>0.002833</td>\n",
       "    </tr>\n",
       "    <tr>\n",
       "      <th>Age_Code</th>\n",
       "      <td>0.000658</td>\n",
       "    </tr>\n",
       "    <tr>\n",
       "      <th>Occupation</th>\n",
       "      <td>0.000340</td>\n",
       "    </tr>\n",
       "    <tr>\n",
       "      <th>Gender_Code</th>\n",
       "      <td>0.000299</td>\n",
       "    </tr>\n",
       "    <tr>\n",
       "      <th>Marital_Status</th>\n",
       "      <td>0.000050</td>\n",
       "    </tr>\n",
       "  </tbody>\n",
       "</table>\n",
       "</div>"
      ],
      "text/plain": [
       "                    importance\n",
       "Product_Category_1    0.925568\n",
       "Product_ID            0.066958\n",
       "categories            0.003295\n",
       "City_Code             0.002833\n",
       "Age_Code              0.000658\n",
       "Occupation            0.000340\n",
       "Gender_Code           0.000299\n",
       "Marital_Status        0.000050"
      ]
     },
     "execution_count": 45,
     "metadata": {},
     "output_type": "execute_result"
    }
   ],
   "source": [
    "feature_importances = pd.DataFrame(rf2.feature_importances_, index = x_train.columns, \n",
    "                                   columns=['importance']).sort_values('importance', ascending=False)\n",
    "feature_importances"
   ]
  },
  {
   "cell_type": "markdown",
   "metadata": {},
   "source": [
    "The categories variable has more weight now. Product_Category_1 still seems to be the most important one and the added feature, Product_ID is the second most important."
   ]
  },
  {
   "cell_type": "markdown",
   "metadata": {},
   "source": [
    "I was taking the user_id as a personal identifier and at first it didn't seem important but if the company wants to target these users for offers, then maybe I should add this feature. "
   ]
  },
  {
   "cell_type": "code",
   "execution_count": 46,
   "metadata": {},
   "outputs": [],
   "source": [
    "train, test = train_test_split(data, test_size = 0.2)\n",
    "\n",
    "x_train = train.drop(['Gender', 'Age','City_Category', 'Stay_In_Current_City_Years','Product_Category_2', 'Product_Category_3', 'Purchase'], axis = 1)\n",
    "y_train = train['Purchase']\n",
    "\n",
    "x_test = test.drop(['Gender', 'Age','City_Category', 'Stay_In_Current_City_Years','Product_Category_2', 'Product_Category_3', 'Purchase'], axis = 1)\n",
    "y_test = test['Purchase']"
   ]
  },
  {
   "cell_type": "code",
   "execution_count": 47,
   "metadata": {},
   "outputs": [],
   "source": [
    "cv = RepeatedKFold(n_splits = 3, n_repeats=3, random_state=39)\n",
    "rf3 = RandomForestRegressor( min_samples_leaf = 400, max_depth = 15)\n",
    "r2_cv3 = cross_val_score(rf3, x_train, y_train, cv=cv, scoring = 'r2')"
   ]
  },
  {
   "cell_type": "code",
   "execution_count": 48,
   "metadata": {
    "scrolled": true
   },
   "outputs": [
    {
     "data": {
      "text/plain": [
       "RandomForestRegressor(bootstrap=True, criterion='mse', max_depth=15,\n",
       "           max_features='auto', max_leaf_nodes=None,\n",
       "           min_impurity_decrease=0.0, min_impurity_split=None,\n",
       "           min_samples_leaf=400, min_samples_split=2,\n",
       "           min_weight_fraction_leaf=0.0, n_estimators=10, n_jobs=None,\n",
       "           oob_score=False, random_state=None, verbose=0, warm_start=False)"
      ]
     },
     "execution_count": 48,
     "metadata": {},
     "output_type": "execute_result"
    }
   ],
   "source": [
    "rf3.fit(x_train, y_train)"
   ]
  },
  {
   "cell_type": "code",
   "execution_count": 49,
   "metadata": {},
   "outputs": [],
   "source": [
    "y_pred_train3 = rf3.predict(x_train)\n",
    "y_pred_test3 = rf3.predict(x_test)"
   ]
  },
  {
   "cell_type": "code",
   "execution_count": 50,
   "metadata": {},
   "outputs": [
    {
     "name": "stdout",
     "output_type": "stream",
     "text": [
      "The train r_squared for the third model:0.6888\n",
      "The test r_squared for the third model:0.6862\n",
      "The CV r_squared for the third model:0.6794\n",
      "The test RMSE for the third model: 2815.92\n"
     ]
    }
   ],
   "source": [
    "print('The train r_squared for the third model:{:.4f}'.format(np.mean(r2_score(y_train, y_pred_train3))))\n",
    "print('The test r_squared for the third model:{:.4f}'.format(np.mean(r2_score(y_test, y_pred_test3))))\n",
    "print('The CV r_squared for the third model:{:.4f}'.format(r2_cv3.mean()))\n",
    "print(\"The test RMSE for the third model: {:.2f}\".format(np.mean(np.sqrt(mean_squared_error(y_test, y_pred_test3)))))"
   ]
  },
  {
   "cell_type": "markdown",
   "metadata": {},
   "source": [
    "We see slight improvement on the CV $R^2$ but nothing else. The previous results:\n",
    "\n",
    "* The train r_squared for the second model:0.6893\n",
    "* The test r_squared for the second model:0.6874\n",
    "* The CV r_squared for the second model:0.6796\n",
    "* The test RMSE: 2806.40\n",
    "\n",
    "Looking at the feature importance, we see:"
   ]
  },
  {
   "cell_type": "code",
   "execution_count": 51,
   "metadata": {},
   "outputs": [
    {
     "data": {
      "text/html": [
       "<div>\n",
       "<style scoped>\n",
       "    .dataframe tbody tr th:only-of-type {\n",
       "        vertical-align: middle;\n",
       "    }\n",
       "\n",
       "    .dataframe tbody tr th {\n",
       "        vertical-align: top;\n",
       "    }\n",
       "\n",
       "    .dataframe thead th {\n",
       "        text-align: right;\n",
       "    }\n",
       "</style>\n",
       "<table border=\"1\" class=\"dataframe\">\n",
       "  <thead>\n",
       "    <tr style=\"text-align: right;\">\n",
       "      <th></th>\n",
       "      <th>importance</th>\n",
       "    </tr>\n",
       "  </thead>\n",
       "  <tbody>\n",
       "    <tr>\n",
       "      <th>Product_Category_1</th>\n",
       "      <td>0.925071</td>\n",
       "    </tr>\n",
       "    <tr>\n",
       "      <th>Product_ID</th>\n",
       "      <td>0.067114</td>\n",
       "    </tr>\n",
       "    <tr>\n",
       "      <th>categories</th>\n",
       "      <td>0.003298</td>\n",
       "    </tr>\n",
       "    <tr>\n",
       "      <th>City_Code</th>\n",
       "      <td>0.002731</td>\n",
       "    </tr>\n",
       "    <tr>\n",
       "      <th>Age_Code</th>\n",
       "      <td>0.000612</td>\n",
       "    </tr>\n",
       "    <tr>\n",
       "      <th>User_ID</th>\n",
       "      <td>0.000512</td>\n",
       "    </tr>\n",
       "    <tr>\n",
       "      <th>Occupation</th>\n",
       "      <td>0.000325</td>\n",
       "    </tr>\n",
       "    <tr>\n",
       "      <th>Gender_Code</th>\n",
       "      <td>0.000290</td>\n",
       "    </tr>\n",
       "    <tr>\n",
       "      <th>Marital_Status</th>\n",
       "      <td>0.000048</td>\n",
       "    </tr>\n",
       "  </tbody>\n",
       "</table>\n",
       "</div>"
      ],
      "text/plain": [
       "                    importance\n",
       "Product_Category_1    0.925071\n",
       "Product_ID            0.067114\n",
       "categories            0.003298\n",
       "City_Code             0.002731\n",
       "Age_Code              0.000612\n",
       "User_ID               0.000512\n",
       "Occupation            0.000325\n",
       "Gender_Code           0.000290\n",
       "Marital_Status        0.000048"
      ]
     },
     "execution_count": 51,
     "metadata": {},
     "output_type": "execute_result"
    }
   ],
   "source": [
    "feature_importances = pd.DataFrame(rf3.feature_importances_, index = x_train.columns, \n",
    "                                   columns=['importance']).sort_values('importance', ascending=False)\n",
    "feature_importances"
   ]
  },
  {
   "cell_type": "markdown",
   "metadata": {},
   "source": [
    "User_Id is not improving the models and clearly is not to one of the top features, so in this case I am going to remove User_ID from the final model and stick with the second model in random forest. "
   ]
  },
  {
   "cell_type": "markdown",
   "metadata": {},
   "source": [
    "Let's compare this model to Decision Tree"
   ]
  },
  {
   "cell_type": "code",
   "execution_count": 52,
   "metadata": {},
   "outputs": [],
   "source": [
    "X = data.drop(['User_ID', 'Gender', 'Age','City_Category', 'Stay_In_Current_City_Years','Product_Category_2', 'Product_Category_3', 'Purchase'], axis = 1)\n",
    "y = data['Purchase']"
   ]
  },
  {
   "cell_type": "code",
   "execution_count": 53,
   "metadata": {},
   "outputs": [],
   "source": [
    "train, test = train_test_split(data, test_size = 0.2)\n",
    "\n",
    "x_train = train.drop(['User_ID', 'Gender', 'Age','City_Category', 'Stay_In_Current_City_Years','Product_Category_2', 'Product_Category_3', 'Purchase'], axis = 1)\n",
    "y_train = train['Purchase']\n",
    "\n",
    "x_test = test.drop(['User_ID', 'Gender', 'Age','City_Category', 'Stay_In_Current_City_Years','Product_Category_2', 'Product_Category_3', 'Purchase'], axis = 1)\n",
    "y_test = test['Purchase']"
   ]
  },
  {
   "cell_type": "code",
   "execution_count": 54,
   "metadata": {},
   "outputs": [],
   "source": [
    "xs = np.arange(1,21, 1)\n",
    "train_scores, validation_scores = validation_curve(DecisionTreeRegressor(), X = X, y = Y, \n",
    "                                                            param_name= 'max_depth',param_range = xs, cv = 5, scoring = \"r2\")"
   ]
  },
  {
   "cell_type": "code",
   "execution_count": 55,
   "metadata": {},
   "outputs": [],
   "source": [
    "means = means_vc(train_scores, validation_scores)"
   ]
  },
  {
   "cell_type": "code",
   "execution_count": 56,
   "metadata": {},
   "outputs": [
    {
     "data": {
      "image/png": "[encoded data removed]",
      "text/plain": [
       "<Figure size 1008x576 with 1 Axes>"
      ]
     },
     "metadata": {
      "needs_background": "light"
     },
     "output_type": "display_data"
    }
   ],
   "source": [
    "figure = plt.figure(figsize=(14,8))\n",
    "\n",
    "axes = figure.add_subplot(1, 1, 1)\n",
    "axes.plot(xs, means[0], label = 'train')\n",
    "axes.fill_between(xs, means[1], means[2], color='#9a5ea1', alpha = 0.25, label='train')\n",
    "axes.plot(xs, means[3], label = 'validation')\n",
    "axes.fill_between(xs, means[4], means[5], color='#98823c', alpha = 0.25, label='test')\n",
    "axes.set_title('Decision Tree Validation Curves for maximum depth of tree', fontsize = 16)\n",
    "axes.legend(['Train Set','Test Set'])\n",
    "axes.set_xlabel('Maximum depth', fontsize = 12)\n",
    "axes.set_ylabel('$R^2$',fontsize =12)\n",
    "axes.set\n",
    "\n",
    "plt.show()"
   ]
  },
  {
   "cell_type": "markdown",
   "metadata": {},
   "source": [
    "It look like 10 could a good balance between bias and variance.  \n",
    "\n",
    "It is the same idea for min_samples_leaf for Decision Trees as for Random Forest, so let's look at values between 1 and 500"
   ]
  },
  {
   "cell_type": "code",
   "execution_count": 57,
   "metadata": {},
   "outputs": [],
   "source": [
    "xs = np.arange(1, 600, 100)\n",
    "train_scores, validation_scores = validation_curve(DecisionTreeRegressor(max_depth = 10), X = X, y = Y, \n",
    "                                                            param_name= 'min_samples_leaf',param_range = xs, cv = 5, scoring = \"r2\")"
   ]
  },
  {
   "cell_type": "code",
   "execution_count": 58,
   "metadata": {},
   "outputs": [],
   "source": [
    "means = means_vc(train_scores, validation_scores)"
   ]
  },
  {
   "cell_type": "code",
   "execution_count": 59,
   "metadata": {},
   "outputs": [
    {
     "data": {
      "image/png": "[encoded data removed]",
      "text/plain": [
       "<Figure size 1008x576 with 1 Axes>"
      ]
     },
     "metadata": {
      "needs_background": "light"
     },
     "output_type": "display_data"
    }
   ],
   "source": [
    "figure = plt.figure(figsize=(14,8))\n",
    "\n",
    "axes = figure.add_subplot(1, 1, 1)\n",
    "axes.plot(xs, means[0], label = 'train')\n",
    "axes.fill_between(xs, means[1], means[2], color='#9a5ea1', alpha = 0.25, label='train')\n",
    "axes.plot(xs, means[3], label = 'validation')\n",
    "axes.fill_between(xs, means[4], means[5], color='#98823c', alpha = 0.25, label='test')\n",
    "axes.set_title('Decision Tree Validation Curves for Minimum Samples at a Leaf', fontsize = 16)\n",
    "axes.legend(['Train Set','Test Set'])\n",
    "axes.set_xlabel('Minimum Samples at Leaf', fontsize = 12)\n",
    "axes.set_ylabel('$R^2$', fontsize = 12)\n",
    "\n",
    "plt.show()\n"
   ]
  },
  {
   "cell_type": "markdown",
   "metadata": {},
   "source": [
    "Very similar results as random forest. Let's keep the same min_samples_leaf as with Random Forest"
   ]
  },
  {
   "cell_type": "code",
   "execution_count": 60,
   "metadata": {},
   "outputs": [],
   "source": [
    "cv = RepeatedKFold(n_splits = 3, n_repeats=3, random_state=57) #Let's keep the same number of folds and repetitions as with random forest\n",
    "dt = DecisionTreeRegressor(max_depth=10, min_samples_leaf=400)\n",
    "rdt_cv = cross_val_score(dt, x_train, y_train, cv=cv, scoring='r2')"
   ]
  },
  {
   "cell_type": "code",
   "execution_count": 61,
   "metadata": {},
   "outputs": [
    {
     "data": {
      "text/plain": [
       "DecisionTreeRegressor(criterion='mse', max_depth=10, max_features=None,\n",
       "           max_leaf_nodes=None, min_impurity_decrease=0.0,\n",
       "           min_impurity_split=None, min_samples_leaf=400,\n",
       "           min_samples_split=2, min_weight_fraction_leaf=0.0,\n",
       "           presort=False, random_state=None, splitter='best')"
      ]
     },
     "execution_count": 61,
     "metadata": {},
     "output_type": "execute_result"
    }
   ],
   "source": [
    "dt.fit(x_train,y_train)"
   ]
  },
  {
   "cell_type": "code",
   "execution_count": 62,
   "metadata": {},
   "outputs": [],
   "source": [
    "y_pred_train = dt.predict(x_train)\n",
    "y_pred_test = dt.predict(x_test)"
   ]
  },
  {
   "cell_type": "code",
   "execution_count": 63,
   "metadata": {},
   "outputs": [
    {
     "name": "stdout",
     "output_type": "stream",
     "text": [
      "The train r_squared DT:0.6831\n",
      "The test r_squaredD DT:0.6815\n",
      "The CV r_squared DT:0.6767\n",
      "The test RMSE DT: 2832.089620\n"
     ]
    }
   ],
   "source": [
    "\n",
    "print('The train r_squared DT:{:.4f}'.format(np.mean(r2_score(y_train, y_pred_train))))\n",
    "print('The test r_squaredD DT:{:.4f}'.format(np.mean(r2_score(y_test, y_pred_test))))\n",
    "print('The CV r_squared DT:{:.4f}'.format(rdt_cv.mean()))\n",
    "print('The test RMSE DT: %f' % np.sqrt(mean_squared_error(y_test, y_pred_test)))"
   ]
  },
  {
   "cell_type": "markdown",
   "metadata": {},
   "source": [
    "All values for $R^2$ are lower than for Random Forest and RMSE is higher. The ones from Random Forest:\n",
    "\n",
    "* The train r_squared for the second model:0.6893\n",
    "* The test r_squared for the second model:0.6874\n",
    "* The CV r_squared for the second model:0.6796\n",
    "* The test RMSE: 2806.40\n",
    "\n",
    "Let's look at feature importance for decision trees:"
   ]
  },
  {
   "cell_type": "code",
   "execution_count": 64,
   "metadata": {},
   "outputs": [
    {
     "data": {
      "text/html": [
       "<div>\n",
       "<style scoped>\n",
       "    .dataframe tbody tr th:only-of-type {\n",
       "        vertical-align: middle;\n",
       "    }\n",
       "\n",
       "    .dataframe tbody tr th {\n",
       "        vertical-align: top;\n",
       "    }\n",
       "\n",
       "    .dataframe thead th {\n",
       "        text-align: right;\n",
       "    }\n",
       "</style>\n",
       "<table border=\"1\" class=\"dataframe\">\n",
       "  <thead>\n",
       "    <tr style=\"text-align: right;\">\n",
       "      <th></th>\n",
       "      <th>importance</th>\n",
       "    </tr>\n",
       "  </thead>\n",
       "  <tbody>\n",
       "    <tr>\n",
       "      <th>Product_Category_1</th>\n",
       "      <td>0.930786</td>\n",
       "    </tr>\n",
       "    <tr>\n",
       "      <th>Product_ID</th>\n",
       "      <td>0.062057</td>\n",
       "    </tr>\n",
       "    <tr>\n",
       "      <th>categories</th>\n",
       "      <td>0.003047</td>\n",
       "    </tr>\n",
       "    <tr>\n",
       "      <th>City_Code</th>\n",
       "      <td>0.002849</td>\n",
       "    </tr>\n",
       "    <tr>\n",
       "      <th>Age_Code</th>\n",
       "      <td>0.000767</td>\n",
       "    </tr>\n",
       "    <tr>\n",
       "      <th>Gender_Code</th>\n",
       "      <td>0.000279</td>\n",
       "    </tr>\n",
       "    <tr>\n",
       "      <th>Occupation</th>\n",
       "      <td>0.000197</td>\n",
       "    </tr>\n",
       "    <tr>\n",
       "      <th>Marital_Status</th>\n",
       "      <td>0.000018</td>\n",
       "    </tr>\n",
       "  </tbody>\n",
       "</table>\n",
       "</div>"
      ],
      "text/plain": [
       "                    importance\n",
       "Product_Category_1    0.930786\n",
       "Product_ID            0.062057\n",
       "categories            0.003047\n",
       "City_Code             0.002849\n",
       "Age_Code              0.000767\n",
       "Gender_Code           0.000279\n",
       "Occupation            0.000197\n",
       "Marital_Status        0.000018"
      ]
     },
     "execution_count": 64,
     "metadata": {},
     "output_type": "execute_result"
    }
   ],
   "source": [
    "feature_importances = pd.DataFrame(dt.feature_importances_, index = X.columns, \n",
    "                                   columns=['importance']).sort_values('importance', ascending=False)\n",
    "feature_importances"
   ]
  },
  {
   "cell_type": "markdown",
   "metadata": {},
   "source": [
    "Reminder of Random Forest:"
   ]
  },
  {
   "cell_type": "code",
   "execution_count": 65,
   "metadata": {},
   "outputs": [
    {
     "data": {
      "text/html": [
       "<div>\n",
       "<style scoped>\n",
       "    .dataframe tbody tr th:only-of-type {\n",
       "        vertical-align: middle;\n",
       "    }\n",
       "\n",
       "    .dataframe tbody tr th {\n",
       "        vertical-align: top;\n",
       "    }\n",
       "\n",
       "    .dataframe thead th {\n",
       "        text-align: right;\n",
       "    }\n",
       "</style>\n",
       "<table border=\"1\" class=\"dataframe\">\n",
       "  <thead>\n",
       "    <tr style=\"text-align: right;\">\n",
       "      <th></th>\n",
       "      <th>importance</th>\n",
       "    </tr>\n",
       "  </thead>\n",
       "  <tbody>\n",
       "    <tr>\n",
       "      <th>Product_Category_1</th>\n",
       "      <td>0.925568</td>\n",
       "    </tr>\n",
       "    <tr>\n",
       "      <th>Product_ID</th>\n",
       "      <td>0.066958</td>\n",
       "    </tr>\n",
       "    <tr>\n",
       "      <th>categories</th>\n",
       "      <td>0.003295</td>\n",
       "    </tr>\n",
       "    <tr>\n",
       "      <th>City_Code</th>\n",
       "      <td>0.002833</td>\n",
       "    </tr>\n",
       "    <tr>\n",
       "      <th>Age_Code</th>\n",
       "      <td>0.000658</td>\n",
       "    </tr>\n",
       "    <tr>\n",
       "      <th>Occupation</th>\n",
       "      <td>0.000340</td>\n",
       "    </tr>\n",
       "    <tr>\n",
       "      <th>Gender_Code</th>\n",
       "      <td>0.000299</td>\n",
       "    </tr>\n",
       "    <tr>\n",
       "      <th>Marital_Status</th>\n",
       "      <td>0.000050</td>\n",
       "    </tr>\n",
       "  </tbody>\n",
       "</table>\n",
       "</div>"
      ],
      "text/plain": [
       "                    importance\n",
       "Product_Category_1    0.925568\n",
       "Product_ID            0.066958\n",
       "categories            0.003295\n",
       "City_Code             0.002833\n",
       "Age_Code              0.000658\n",
       "Occupation            0.000340\n",
       "Gender_Code           0.000299\n",
       "Marital_Status        0.000050"
      ]
     },
     "execution_count": 65,
     "metadata": {},
     "output_type": "execute_result"
    }
   ],
   "source": [
    "feature_importances = pd.DataFrame(rf2.feature_importances_, index = x_train.columns, \n",
    "                                   columns=['importance']).sort_values('importance', ascending=False)\n",
    "feature_importances"
   ]
  },
  {
   "cell_type": "markdown",
   "metadata": {},
   "source": [
    "The feature importance is almost the same, with the exception that Gender_Code and Marital Status take opposite spots. \n",
    "\n",
    "Let's look at the difference in means"
   ]
  },
  {
   "cell_type": "code",
   "execution_count": 66,
   "metadata": {},
   "outputs": [],
   "source": [
    "def bootstrap_sample( data, f, n=1000):\n",
    "    result = []\n",
    "    m = len( data)\n",
    "    for _ in range( n):\n",
    "        sample = np.random.choice( data, len(data), replace=True)\n",
    "        r = f( sample)\n",
    "        result.append( r)\n",
    "    return np.array( result)"
   ]
  },
  {
   "cell_type": "code",
   "execution_count": 67,
   "metadata": {},
   "outputs": [],
   "source": [
    "dt_bootstrap = bootstrap_sample(rdt_cv,np.mean)\n",
    "rf2_bootstrap = bootstrap_sample(r2_cv2,np.mean)\n",
    "difference = rf2_bootstrap - dt_bootstrap"
   ]
  },
  {
   "cell_type": "code",
   "execution_count": 68,
   "metadata": {},
   "outputs": [
    {
     "data": {
      "image/png": "[encoded data removed]",
      "text/plain": [
       "<Figure size 1440x576 with 3 Axes>"
      ]
     },
     "metadata": {
      "needs_background": "light"
     },
     "output_type": "display_data"
    }
   ],
   "source": [
    "figure = plt.figure(figsize=(20, 8)) # first element is width, second is height.\n",
    "\n",
    "axes = figure.add_subplot(1, 3, 1)\n",
    "\n",
    "axes.hist(dt_bootstrap, density=True, color = '#875b68')\n",
    "axes.set_ylabel( \"Density\")\n",
    "axes.set_xlabel( \"$R^2$\")\n",
    "axes.set_ylim(0,1000)\n",
    "axes.set_title( \"Posterior Distribution of Decision Tree Model $R^2$\")\n",
    "\n",
    "axes = figure.add_subplot(1, 3, 2)\n",
    "\n",
    "axes.hist(rf2_bootstrap, density=True, color = '#875b68')\n",
    "axes.set_ylabel( \"Density\")\n",
    "axes.set_xlabel( \"$R^2$\")\n",
    "axes.set_ylim(0,1000)\n",
    "axes.set_title( \"Posterior Distribution of Random Forest Model $R^2$\")\n",
    "\n",
    "axes = figure.add_subplot(1, 3, 3)\n",
    "\n",
    "axes.hist( difference, density=True, color = '#875b68')\n",
    "axes.set_ylabel( \"Density\")\n",
    "axes.set_xlabel( \"Difference\")\n",
    "axes.set_ylim(0,1000)\n",
    "axes.set_title( \"Posterior Distribution of Difference in $R^2$\")\n",
    "\n",
    "plt.show()\n",
    "plt.close()"
   ]
  },
  {
   "cell_type": "code",
   "execution_count": 69,
   "metadata": {},
   "outputs": [
    {
     "name": "stdout",
     "output_type": "stream",
     "text": [
      "The 95% CI for Random Forest: [0.67804127 0.68096383]\n"
     ]
    }
   ],
   "source": [
    "ci_rf = stats.mstats.mquantiles(rf2_bootstrap, [0.025, 0.975])\n",
    "print('The 95% CI for Random Forest:', ci_rf)"
   ]
  },
  {
   "cell_type": "code",
   "execution_count": 70,
   "metadata": {},
   "outputs": [
    {
     "name": "stdout",
     "output_type": "stream",
     "text": [
      "The 95% CI for Decision Tree: [0.67491117 0.67837511]\n"
     ]
    }
   ],
   "source": [
    "ci_dt = stats.mstats.mquantiles(dt_bootstrap, [0.025, 0.975])\n",
    "print('The 95% CI for Decision Tree:', ci_dt)"
   ]
  },
  {
   "cell_type": "code",
   "execution_count": 71,
   "metadata": {},
   "outputs": [
    {
     "name": "stdout",
     "output_type": "stream",
     "text": [
      "Difference in 95% Confidence Interval: [0.0031301  0.00258872]\n"
     ]
    }
   ],
   "source": [
    "print(\"Difference in 95% Confidence Interval:\", abs(ci_rf - ci_dt))"
   ]
  },
  {
   "cell_type": "markdown",
   "metadata": {},
   "source": [
    "The 95% Credible Interval for the posterior distribution in Random Forest is 0.6780 to 0.6810, while for Decision Trees we see a 95% Credible Interval of 0.6749 to 0.6785 \n",
    "\n",
    "The difference in Confidence interval is very small, 0.00313 to 0.00259\n",
    "\n",
    "Let's look at the probability that Random Forest mean $R^2$ is better than the mean $R^2$ for Decision Tree"
   ]
  },
  {
   "cell_type": "code",
   "execution_count": 72,
   "metadata": {},
   "outputs": [
    {
     "name": "stdout",
     "output_type": "stream",
     "text": [
      "P(Random Forest > Decision Tree) 0.994\n",
      "P(Decision Tree > Random Forest) 0.006\n"
     ]
    }
   ],
   "source": [
    "print(\"P(Random Forest > Decision Tree)\", np.mean(difference >=0))\n",
    "print(\"P(Decision Tree > Random Forest)\", np.mean(difference <0))"
   ]
  },
  {
   "cell_type": "markdown",
   "metadata": {},
   "source": [
    "According to this, there is a 0.6% probability that Decision Tree is better than Random Forest. \n",
    "\n",
    "Random Forest does provide better results but this doesn't mean that Decision Trees is not a good fit for the data, especially if further optimization on hyperparameters and more feature engineering is developed. "
   ]
  },
  {
   "cell_type": "markdown",
   "metadata": {},
   "source": [
    "Sources:\n",
    "\n",
    "https://scikit-learn.org/stable/modules/tree.html#tree\n",
    "\n",
    "https://scikit-learn.org/stable/modules/generated/sklearn.ensemble.RandomForestRegressor.html\n",
    "\n",
    "https://towardsdatascience.com/hyperparameter-tuning-the-random-forest-in-python-using-scikit-learn-28d2aa77dd74\n"
   ]
  }
 ],
 "metadata": {
  "kernelspec": {
   "display_name": "Python [conda env:ipykernel_py3]",
   "language": "python",
   "name": "conda-env-ipykernel_py3-py"
  },
  "language_info": {
   "codemirror_mode": {
    "name": "ipython",
    "version": 3
   },
   "file_extension": ".py",
   "mimetype": "text/x-python",
   "name": "python",
   "nbconvert_exporter": "python",
   "pygments_lexer": "ipython3",
   "version": "3.6.6"
  }
 },
 "nbformat": 4,
 "nbformat_minor": 2
}
